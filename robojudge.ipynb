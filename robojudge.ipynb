{
 "cells": [
  {
   "cell_type": "code",
   "execution_count": null,
   "metadata": {},
   "outputs": [],
   "source": [
    "import pandas as pd"
   ]
  },
  {
   "cell_type": "markdown",
   "metadata": {},
   "source": [
    "# Load data set"
   ]
  },
  {
   "cell_type": "code",
   "execution_count": null,
   "metadata": {},
   "outputs": [],
   "source": [
    "LATEST_DATA_URL = 'https://raw.githubusercontent.com/OxCGRT/covid-policy-tracker/master/data/OxCGRT_latest.csv'"
   ]
  },
  {
   "cell_type": "code",
   "execution_count": null,
   "metadata": {},
   "outputs": [],
   "source": [
    "def load_dataset(url):\n",
    "    latest_df = pd.read_csv(url,\n",
    "                            parse_dates=['Date'],\n",
    "                            encoding=\"ISO-8859-1\",\n",
    "                            error_bad_lines=False)\n",
    "    latest_df[\"RegionName\"] = latest_df[\"RegionName\"].fillna(\"\")\n",
    "    return latest_df"
   ]
  },
  {
   "cell_type": "code",
   "execution_count": null,
   "metadata": {},
   "outputs": [],
   "source": [
    "latest_df = load_dataset(LATEST_DATA_URL)"
   ]
  },
  {
   "cell_type": "code",
   "execution_count": null,
   "metadata": {},
   "outputs": [],
   "source": [
    "latest_df.sample(3)"
   ]
  },
  {
   "cell_type": "markdown",
   "metadata": {},
   "source": [
    "# Get NPIs"
   ]
  },
  {
   "cell_type": "code",
   "execution_count": null,
   "metadata": {},
   "outputs": [],
   "source": [
    "NPI_COLUMNS = ['C1_School closing',\n",
    "               'C2_Workplace closing',\n",
    "               'C3_Cancel public events',\n",
    "               'C4_Restrictions on gatherings',\n",
    "               'C5_Close public transport',\n",
    "               'C6_Stay at home requirements',\n",
    "               'C7_Restrictions on internal movement',\n",
    "               'C8_International travel controls',\n",
    "               'H1_Public information campaigns',\n",
    "               'H2_Testing policy',\n",
    "               'H3_Contact tracing']"
   ]
  },
  {
   "cell_type": "code",
   "execution_count": null,
   "metadata": {},
   "outputs": [],
   "source": [
    "npis_df = latest_df[[\"CountryName\", \"RegionName\", \"Date\"] + NPI_COLUMNS]"
   ]
  },
  {
   "cell_type": "code",
   "execution_count": null,
   "metadata": {},
   "outputs": [],
   "source": [
    "npis_df.sample(3)"
   ]
  },
  {
   "cell_type": "markdown",
   "metadata": {},
   "source": [
    "# Dates"
   ]
  },
  {
   "cell_type": "code",
   "execution_count": null,
   "metadata": {},
   "outputs": [],
   "source": [
    "start_date = pd.to_datetime(\"2020-08-01\", format='%Y-%m-%d')"
   ]
  },
  {
   "cell_type": "code",
   "execution_count": null,
   "metadata": {},
   "outputs": [],
   "source": [
    "end_date = pd.to_datetime(\"2020-08-04\", format='%Y-%m-%d')"
   ]
  },
  {
   "cell_type": "code",
   "execution_count": null,
   "metadata": {},
   "outputs": [],
   "source": [
    "actual_npis_df = npis_df[(npis_df.Date >= start_date) & (npis_df.Date <= end_date)]"
   ]
  },
  {
   "cell_type": "code",
   "execution_count": null,
   "metadata": {},
   "outputs": [],
   "source": [
    "actual_npis_df.sample(3)"
   ]
  },
  {
   "cell_type": "code",
   "execution_count": null,
   "metadata": {},
   "outputs": [],
   "source": [
    "npis_file_name = start_date.strftime('%Y-%m-%d') + \"_\" + end_date.strftime('%Y-%m-%d') + \"_\" + \"npis_example.csv\"\n",
    "npis_file_name"
   ]
  },
  {
   "cell_type": "code",
   "execution_count": null,
   "metadata": {},
   "outputs": [],
   "source": [
    "# Save to file\n",
    "# actual_npis_df.to_csv(\"data/input/\" + npis_file_name, index=False)"
   ]
  },
  {
   "cell_type": "markdown",
   "metadata": {},
   "source": [
    "# Get actual cases between these dates"
   ]
  },
  {
   "cell_type": "code",
   "execution_count": null,
   "metadata": {},
   "outputs": [],
   "source": [
    "def get_actual_cases(df, start_date, end_date):\n",
    "    # 1 day earlier to compute the daily diff\n",
    "    start_date_for_diff = start_date - pd.offsets.Day(1)\n",
    "    actual_df = df[[\"CountryName\", \"RegionName\", \"Date\", \"ConfirmedCases\"]]\n",
    "    # Filter out the data set to include all the data needed to compute the diff\n",
    "    actual_df = actual_df[(actual_df.Date >= start_date_for_diff) & (actual_df.Date <= end_date)]\n",
    "    actual_df.sort_values(by=[\"CountryName\",\"RegionName\",\"Date\"], inplace=True)\n",
    "    # Compute the diff\n",
    "    actual_df[\"ActualDailyNewCases\"] = actual_df.groupby([\"CountryName\", \"RegionName\"])[\"ConfirmedCases\"].diff().fillna(0)\n",
    "    # Return only the data between start_date and end_date\n",
    "    actual_df = actual_df[(actual_df.Date >= start_date) & (actual_df.Date <= end_date)]\n",
    "    return actual_df"
   ]
  },
  {
   "cell_type": "code",
   "execution_count": null,
   "metadata": {},
   "outputs": [],
   "source": [
    "NUM_PREV_DAYS_TO_INCLUDE = 6\n",
    "WINDOW_SIZE = 7"
   ]
  },
  {
   "cell_type": "code",
   "execution_count": null,
   "metadata": {},
   "outputs": [],
   "source": [
    "# def get_actual_cases_new(df, start_date, end_date):\n",
    "#     actual_df = df[[\"CountryName\", \"RegionName\", \"Date\", \"ConfirmedCases\"]].reset_index(drop=True)\n",
    "#     # Filter out the data set but make sure to include data need for 7MA and Diff computations\n",
    "#     start_date_for_diff = start_date - pd.offsets.Day(NUM_PREV_DAYS_TO_INCLUDE)\n",
    "#     actual_df = actual_df[(actual_df.Date >= start_date_for_diff) & (actual_df.Date <= end_date)]\n",
    "# #     actual_df.sort_values(by=[\"CountryName\",\"RegionName\",\"Date\"], inplace=True)\n",
    "#     actual_df = actual_df.sort_values(by=[\"CountryName\",\"RegionName\",\"Date\"]).reset_index(drop=True)\n",
    "    \n",
    "#     # Compute the diff\n",
    "#     actual_df[\"ActualDailyNewCases\"] = actual_df.groupby(\n",
    "#         [\"CountryName\", \"RegionName\"])[\"ConfirmedCases\"].diff().fillna(0).reset_index(0, drop=True)\n",
    "# #     # Make sure daily cases are not negative, which happens in case of corrections\n",
    "# #     actual_df['ActualDailyNewCases'] = actual_df['ActualDailyNewCases'].clip(lower=0)\n",
    "    \n",
    "#     # 7 day moving average\n",
    "#     actual_df[\"7DayActualDailyNewCases\"] = actual_df.groupby(\n",
    "#         [\"CountryName\", \"RegionName\"])[\"ActualDailyNewCases\"].rolling(WINDOW_SIZE, center=False).mean().reset_index(0, drop=True)\n",
    "# #     ma_df = actual_df[\"7DayActualDailyNewCases\"] = actual_df.groupby([\"CountryName\", \"RegionName\"])[\"ActualDailyNewCases\"].rolling(7, center=False).mean().reset_index(0, drop=True)\n",
    "\n",
    "#     # Return only the data between start_date and end_date\n",
    "# #     actual_df = actual_df[(actual_df.Date >= start_date) & (actual_df.Date <= end_date)]\n",
    "#     return actual_df"
   ]
  },
  {
   "cell_type": "code",
   "execution_count": null,
   "metadata": {},
   "outputs": [],
   "source": [
    "actual_df = get_actual_cases(latest_df, start_date, end_date)"
   ]
  },
  {
   "cell_type": "code",
   "execution_count": null,
   "metadata": {},
   "outputs": [],
   "source": [
    "actual_df.head(12)"
   ]
  },
  {
   "cell_type": "code",
   "execution_count": null,
   "metadata": {},
   "outputs": [],
   "source": [
    "# ma_df = actual_df.groupby([\"CountryName\", \"RegionName\"])[\"ActualDailyNewCases\"].rolling(7, center=False).mean().reset_index()\n",
    "# ma_df.head(12)\n"
   ]
  },
  {
   "cell_type": "code",
   "execution_count": null,
   "metadata": {},
   "outputs": [],
   "source": []
  },
  {
   "cell_type": "markdown",
   "metadata": {},
   "source": [
    "# Get predictions from submissions"
   ]
  },
  {
   "cell_type": "code",
   "execution_count": null,
   "metadata": {},
   "outputs": [],
   "source": [
    "def get_predictions_from_file(predictor_name, predictions_file):\n",
    "    preds_df = pd.read_csv(predictions_file,\n",
    "                           parse_dates=['Date'],\n",
    "                           encoding=\"ISO-8859-1\",\n",
    "                           error_bad_lines=False)\n",
    "    preds_df[\"RegionName\"] = preds_df[\"RegionName\"].fillna(\"\")\n",
    "    preds_df[\"PredictorName\"] = predictor_name\n",
    "    # Put PredictorName first\n",
    "    preds_df = preds_df[[\"PredictorName\"] + [col for col in preds_df.columns if col != \"PredictorName\"]]\n",
    "    return preds_df"
   ]
  },
  {
   "cell_type": "code",
   "execution_count": null,
   "metadata": {},
   "outputs": [],
   "source": [
    "predictions = {\"Predictor #27\": \"examples/lstm/tests/fixtures/pred27/20200801_20200804_predictions.csv\",\n",
    "               \"Predictor #30\": \"examples/lstm/tests/fixtures/pred30/20200801_20200804_predictions.csv\",\n",
    "               \"Predictor #31\": \"examples/lstm/tests/fixtures/pred31/20200801_20200804_predictions.csv\",\n",
    "              }"
   ]
  },
  {
   "cell_type": "code",
   "execution_count": null,
   "metadata": {},
   "outputs": [],
   "source": [
    "test_predictor_name = \"Predictor #27\"\n",
    "get_predictions_from_file(test_predictor_name, predictions[test_predictor_name]).head()"
   ]
  },
  {
   "cell_type": "code",
   "execution_count": null,
   "metadata": {},
   "outputs": [],
   "source": [
    "actual_df.head()"
   ]
  },
  {
   "cell_type": "code",
   "execution_count": null,
   "metadata": {},
   "outputs": [],
   "source": [
    "ranking_df = pd.DataFrame()\n",
    "for predictor_name, predictions_file in predictions.items():\n",
    "    preds_df = get_predictions_from_file(predictor_name, predictions_file)\n",
    "    merged_df = actual_df.merge(preds_df, on=['CountryName', 'RegionName', 'Date'], how='left')\n",
    "    ranking_df = ranking_df.append(merged_df)"
   ]
  },
  {
   "cell_type": "code",
   "execution_count": null,
   "metadata": {},
   "outputs": [],
   "source": [
    "ranking_df['Diff'] = (ranking_df[\"ActualDailyNewCases\"] - ranking_df[\"PredictedDailyNewCases\"]).abs()"
   ]
  },
  {
   "cell_type": "code",
   "execution_count": null,
   "metadata": {},
   "outputs": [],
   "source": [
    "ranking_df.sort_values(by=[\"CountryName\",\"RegionName\",\"Date\",\"Diff\"], inplace=True)"
   ]
  },
  {
   "cell_type": "code",
   "execution_count": null,
   "metadata": {},
   "outputs": [],
   "source": [
    "ranking_df.head(12)"
   ]
  },
  {
   "cell_type": "code",
   "execution_count": null,
   "metadata": {},
   "outputs": [],
   "source": [
    "ranking_df[(ranking_df.CountryName == \"United States\") &\n",
    "           (ranking_df.Date == '2020-08-02')]"
   ]
  },
  {
   "cell_type": "code",
   "execution_count": null,
   "metadata": {},
   "outputs": [],
   "source": [
    "# Save to file\n",
    "# ranking_df.to_csv(\"/Users/m_754337/workspace/esp-demo/xprize/tests/fixtures/ranking.csv\", index=False)"
   ]
  },
  {
   "cell_type": "markdown",
   "metadata": {},
   "source": [
    "# Ranking"
   ]
  },
  {
   "cell_type": "markdown",
   "metadata": {},
   "source": [
    "## Global"
   ]
  },
  {
   "cell_type": "code",
   "execution_count": null,
   "metadata": {},
   "outputs": [],
   "source": [
    "ranking_df.groupby('PredictorName').Diff.sum().sort_values()"
   ]
  },
  {
   "cell_type": "markdown",
   "metadata": {},
   "source": [
    "## Countries"
   ]
  },
  {
   "cell_type": "code",
   "execution_count": null,
   "metadata": {},
   "outputs": [],
   "source": [
    "countries_ranking_df = ranking_df.groupby([\"CountryName\", \"RegionName\", \"PredictorName\"])[[\"CountryName\", \"RegionName\", \"PredictorName\", \"Diff\"]].sum().sort_values(by=[\"CountryName\", \"RegionName\", \"Diff\"])\n"
   ]
  },
  {
   "cell_type": "code",
   "execution_count": null,
   "metadata": {},
   "outputs": [],
   "source": [
    "countries_ranking_df.head(12)"
   ]
  },
  {
   "cell_type": "markdown",
   "metadata": {},
   "source": [
    "## Specific country"
   ]
  },
  {
   "cell_type": "code",
   "execution_count": null,
   "metadata": {},
   "outputs": [],
   "source": [
    "cr_df = countries_ranking_df.reset_index()"
   ]
  },
  {
   "cell_type": "code",
   "execution_count": null,
   "metadata": {},
   "outputs": [],
   "source": [
    "cr_df[(cr_df.CountryName == \"Italy\") & (cr_df.RegionName == \"\")]"
   ]
  },
  {
   "cell_type": "code",
   "execution_count": null,
   "metadata": {},
   "outputs": [],
   "source": [
    "ranking_df[ranking_df.CountryName == \"Italy\"]"
   ]
  },
  {
   "cell_type": "markdown",
   "metadata": {},
   "source": [
    "## Specific country (group by)"
   ]
  },
  {
   "cell_type": "code",
   "execution_count": null,
   "metadata": {},
   "outputs": [],
   "source": [
    "ranking_df[(ranking_df.CountryName == \"United States\") & (ranking_df.RegionName == \"\")].groupby([\"PredictorName\"]).Diff.sum().sort_values()"
   ]
  },
  {
   "cell_type": "markdown",
   "metadata": {},
   "source": [
    "## Specific region"
   ]
  },
  {
   "cell_type": "code",
   "execution_count": null,
   "metadata": {},
   "outputs": [],
   "source": [
    "cr_df[(cr_df.CountryName == \"United States\") & (cr_df.RegionName == \"California\")]"
   ]
  },
  {
   "cell_type": "markdown",
   "metadata": {},
   "source": [
    "## Continent"
   ]
  },
  {
   "cell_type": "code",
   "execution_count": null,
   "metadata": {},
   "outputs": [],
   "source": [
    "NORTH_AMERICA = [\"Canada\", \"United States\", \"Mexico\"]"
   ]
  },
  {
   "cell_type": "code",
   "execution_count": null,
   "metadata": {},
   "outputs": [],
   "source": [
    "cr_df[(cr_df.CountryName.isin(NORTH_AMERICA)) & (cr_df.RegionName == \"\")].groupby('PredictorName').Diff.sum().sort_values().reset_index()"
   ]
  },
  {
   "cell_type": "code",
   "execution_count": null,
   "metadata": {},
   "outputs": [],
   "source": [
    "cr_df[(cr_df.CountryName.isin(NORTH_AMERICA)) & (cr_df.RegionName == \"\")]"
   ]
  },
  {
   "cell_type": "code",
   "execution_count": null,
   "metadata": {},
   "outputs": [],
   "source": []
  }
 ],
 "metadata": {
  "kernelspec": {
   "display_name": "Python 3",
   "language": "python",
   "name": "python3"
  },
  "language_info": {
   "codemirror_mode": {
    "name": "ipython",
    "version": 3
   },
   "file_extension": ".py",
   "mimetype": "text/x-python",
   "name": "python",
   "nbconvert_exporter": "python",
   "pygments_lexer": "ipython3",
   "version": "3.7.2"
  }
 },
 "nbformat": 4,
 "nbformat_minor": 4
}
