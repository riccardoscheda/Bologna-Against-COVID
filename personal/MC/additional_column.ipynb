{
 "cells": [
  {
   "cell_type": "code",
   "execution_count": 54,
   "metadata": {},
   "outputs": [],
   "source": [
    "import pandas as pd\n",
    "import numpy as np\n",
    "import os\n",
    "import urllib.request\n",
    "\n",
    "# Main source for the training data\n",
    "DATA_URL = 'https://raw.githubusercontent.com/OxCGRT/covid-policy-tracker/master/data/OxCGRT_latest.csv'\n",
    "# Local file\n",
    "DATA_FILE = 'data/OxCGRT_latest.csv'\n",
    "\n",
    "# if not os.path.exists('data'):\n",
    "#   os.mkdir('data')\n",
    "# urllib.request.urlretrieve(DATA_URL, DATA_FILE)"
   ]
  },
  {
   "cell_type": "code",
   "execution_count": 99,
   "metadata": {},
   "outputs": [],
   "source": [
    "# Load historical data from local file\n",
    "df = pd.read_csv(DATA_FILE, \n",
    "                 parse_dates=['Date'],\n",
    "                 encoding='ISO-8859-1',\n",
    "                 dtype={'RegionName': str,\n",
    "                        'RegionCode': str},\n",
    "                 error_bad_lines=False)\n",
    "\n",
    "# From https://ourworldindata.org/coronavirus-testing\n",
    "data = pd.read_excel('2020-12-10_owid-tests-data.xlsx')\n",
    "data.rename(columns={'location' : 'CountryName',\n",
    "                     'human_development_index' : 'HDI',\n",
    "                     'date' : 'Date'},\n",
    "            inplace=True)\n",
    "\n",
    "data.CountryName.replace(to_replace={'Timor' : 'Timor-Leste',\n",
    "                                     'Kyrgyzstan' : 'Kyrgyz Republic',\n",
    "                                     'Slovakia' : 'Slovak Republic'},\n",
    "                         inplace=True)"
   ]
  },
  {
   "cell_type": "code",
   "execution_count": 100,
   "metadata": {},
   "outputs": [],
   "source": [
    "latest_country = df.CountryName.unique()\n",
    "add_country = data.CountryName.unique()"
   ]
  },
  {
   "cell_type": "code",
   "execution_count": 101,
   "metadata": {
    "scrolled": true
   },
   "outputs": [
    {
     "name": "stdout",
     "output_type": "stream",
     "text": [
      "['Antigua and Barbuda' 'Armenia' 'Czechia' 'Equatorial Guinea' 'Grenada'\n",
      " 'Guinea-Bissau' 'International' 'Liechtenstein' 'Maldives' 'Malta'\n",
      " 'Marshall Islands' 'Montenegro' 'North Macedonia' 'Saint Kitts and Nevis'\n",
      " 'Saint Lucia' 'Saint Vincent and the Grenadines' 'Samoa'\n",
      " 'Sao Tome and Principe' 'Vatican' 'World']\n",
      "['Aruba' 'Bermuda' 'Czech Republic' 'Faeroe Islands' 'Greenland' 'Guam'\n",
      " 'Macao' 'Puerto Rico' 'Turkmenistan' 'United States Virgin Islands']\n"
     ]
    }
   ],
   "source": [
    "common, idx1, idx2 = np.intersect1d(latest_country, add_country, return_indices=True)\n",
    "\n",
    "all_idx_latest = range(len(latest_country))\n",
    "all_idx_data   = range(len(add_country))\n",
    "\n",
    "only_from_data = []\n",
    "only_from_df = []\n",
    "\n",
    "for i in all_idx_latest:\n",
    "  if i not in idx1:\n",
    "    only_from_df.append(i)\n",
    "\n",
    "for i in all_idx_data:\n",
    "  if i not in idx2:\n",
    "    only_from_data.append(i)\n",
    "\n",
    "print(add_country[only_from_data])\n",
    "print(latest_country[only_from_df])"
   ]
  },
  {
   "cell_type": "code",
   "execution_count": 112,
   "metadata": {},
   "outputs": [
    {
     "name": "stderr",
     "output_type": "stream",
     "text": [
      "/home/mattia/.local/lib/python3.8/site-packages/pandas-1.1.2-py3.8-linux-x86_64.egg/pandas/core/generic.py:5165: SettingWithCopyWarning: \n",
      "A value is trying to be set on a copy of a slice from a DataFrame.\n",
      "Try using .loc[row_indexer,col_indexer] = value instead\n",
      "\n",
      "See the caveats in the documentation: https://pandas.pydata.org/pandas-docs/stable/user_guide/indexing.html#returning-a-view-versus-a-copy\n",
      "  self[name] = value\n"
     ]
    }
   ],
   "source": [
    "df_HDI = data[['CountryName', 'Date', 'HDI']]\n",
    "df_HDI.Date = pd.to_datetime(df_HDI.Date)\n",
    "df_HDI.to_csv('country_HDI.csv', index=False)"
   ]
  },
  {
   "cell_type": "code",
   "execution_count": 103,
   "metadata": {},
   "outputs": [],
   "source": [
    "df_HDI = df.merge(df_HDI, how='left', left_on=['CountryName','Date'], right_on=['CountryName','Date'])"
   ]
  },
  {
   "cell_type": "code",
   "execution_count": 111,
   "metadata": {},
   "outputs": [
    {
     "data": {
      "text/html": [
       "<div>\n",
       "<style scoped>\n",
       "    .dataframe tbody tr th:only-of-type {\n",
       "        vertical-align: middle;\n",
       "    }\n",
       "\n",
       "    .dataframe tbody tr th {\n",
       "        vertical-align: top;\n",
       "    }\n",
       "\n",
       "    .dataframe thead th {\n",
       "        text-align: right;\n",
       "    }\n",
       "</style>\n",
       "<table border=\"1\" class=\"dataframe\">\n",
       "  <thead>\n",
       "    <tr style=\"text-align: right;\">\n",
       "      <th></th>\n",
       "      <th>CountryName</th>\n",
       "      <th>HDI</th>\n",
       "    </tr>\n",
       "  </thead>\n",
       "  <tbody>\n",
       "    <tr>\n",
       "      <th>0</th>\n",
       "      <td>Aruba</td>\n",
       "      <td>NaN</td>\n",
       "    </tr>\n",
       "    <tr>\n",
       "      <th>1</th>\n",
       "      <td>Aruba</td>\n",
       "      <td>NaN</td>\n",
       "    </tr>\n",
       "    <tr>\n",
       "      <th>2</th>\n",
       "      <td>Aruba</td>\n",
       "      <td>NaN</td>\n",
       "    </tr>\n",
       "    <tr>\n",
       "      <th>3</th>\n",
       "      <td>Aruba</td>\n",
       "      <td>NaN</td>\n",
       "    </tr>\n",
       "    <tr>\n",
       "      <th>4</th>\n",
       "      <td>Aruba</td>\n",
       "      <td>NaN</td>\n",
       "    </tr>\n",
       "    <tr>\n",
       "      <th>...</th>\n",
       "      <td>...</td>\n",
       "      <td>...</td>\n",
       "    </tr>\n",
       "    <tr>\n",
       "      <th>91420</th>\n",
       "      <td>Zimbabwe</td>\n",
       "      <td>0.535</td>\n",
       "    </tr>\n",
       "    <tr>\n",
       "      <th>91421</th>\n",
       "      <td>Zimbabwe</td>\n",
       "      <td>0.535</td>\n",
       "    </tr>\n",
       "    <tr>\n",
       "      <th>91422</th>\n",
       "      <td>Zimbabwe</td>\n",
       "      <td>0.535</td>\n",
       "    </tr>\n",
       "    <tr>\n",
       "      <th>91423</th>\n",
       "      <td>Zimbabwe</td>\n",
       "      <td>0.535</td>\n",
       "    </tr>\n",
       "    <tr>\n",
       "      <th>91424</th>\n",
       "      <td>Zimbabwe</td>\n",
       "      <td>NaN</td>\n",
       "    </tr>\n",
       "  </tbody>\n",
       "</table>\n",
       "<p>91425 rows × 2 columns</p>\n",
       "</div>"
      ],
      "text/plain": [
       "      CountryName    HDI\n",
       "0           Aruba    NaN\n",
       "1           Aruba    NaN\n",
       "2           Aruba    NaN\n",
       "3           Aruba    NaN\n",
       "4           Aruba    NaN\n",
       "...           ...    ...\n",
       "91420    Zimbabwe  0.535\n",
       "91421    Zimbabwe  0.535\n",
       "91422    Zimbabwe  0.535\n",
       "91423    Zimbabwe  0.535\n",
       "91424    Zimbabwe    NaN\n",
       "\n",
       "[91425 rows x 2 columns]"
      ]
     },
     "execution_count": 111,
     "metadata": {},
     "output_type": "execute_result"
    }
   ],
   "source": [
    "df_HDI[['CountryName', 'HDI']]"
   ]
  },
  {
   "cell_type": "code",
   "execution_count": null,
   "metadata": {},
   "outputs": [],
   "source": []
  }
 ],
 "metadata": {
  "kernelspec": {
   "display_name": "Python 3",
   "language": "python",
   "name": "python3"
  },
  "language_info": {
   "codemirror_mode": {
    "name": "ipython",
    "version": 3
   },
   "file_extension": ".py",
   "mimetype": "text/x-python",
   "name": "python",
   "nbconvert_exporter": "python",
   "pygments_lexer": "ipython3",
   "version": "3.8.5"
  }
 },
 "nbformat": 4,
 "nbformat_minor": 4
}
