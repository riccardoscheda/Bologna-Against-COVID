{
 "cells": [
  {
   "cell_type": "raw",
   "metadata": {},
   "source": [
    "# Copyright 2020 (c) Cognizant Digital Business, Evolutionary AI. All rights reserved. Issued under the Apache 2.0 License."
   ]
  },
  {
   "cell_type": "markdown",
   "metadata": {},
   "source": [
    "# Example Predictor: Linear Rollout Predictor\n",
    "\n",
    "This example contains basic functionality for training and evaluating a linear predictor that rolls out predictions day-by-day.\n",
    "\n",
    "First, a training data set is created from historical case and npi data.\n",
    "\n",
    "Second, a linear model is trained to predict future cases from prior case data along with prior and future npi data.\n",
    "The model is an off-the-shelf sklearn Lasso model, that uses a positive weight constraint to enforce the assumption that increased npis has a negative correlation with future cases.\n",
    "\n",
    "Third, a sample evaluation set is created, and the predictor is applied to this evaluation set to produce prediction results in the correct format."
   ]
  },
  {
   "cell_type": "markdown",
   "metadata": {},
   "source": [
    "## Training"
   ]
  },
  {
   "cell_type": "code",
   "execution_count": 2,
   "metadata": {},
   "outputs": [],
   "source": [
    "import pickle\n",
    "import numpy as np\n",
    "import pandas as pd\n",
    "from sklearn.linear_model import Lasso\n",
    "from sklearn.model_selection import train_test_split\n",
    "import matplotlib.pyplot as plt\n",
    "import sys, os\n",
    "sys.path.insert(1,'/'+os.path.join(*os.getcwd().split('/')[:-2])+'/utils')\n",
    "#from custom_models import SIRRegressor\n",
    "from df_preparation import *"
   ]
  },
  {
   "cell_type": "markdown",
   "metadata": {},
   "source": [
    "### Copy the data locally"
   ]
  },
  {
   "cell_type": "code",
   "execution_count": 3,
   "metadata": {},
   "outputs": [],
   "source": [
    "# Main source for the training data\n",
    "DATA_URL = 'https://raw.githubusercontent.com/OxCGRT/covid-policy-tracker/master/data/OxCGRT_latest.csv'\n",
    "# Local file\n",
    "DATA_FILE = 'data/OxCGRT_latest.csv'"
   ]
  },
  {
   "cell_type": "code",
   "execution_count": 4,
   "metadata": {},
   "outputs": [
    {
     "data": {
      "text/plain": [
       "('data/OxCGRT_latest.csv', <http.client.HTTPMessage at 0x7fbd2ac715c0>)"
      ]
     },
     "execution_count": 4,
     "metadata": {},
     "output_type": "execute_result"
    }
   ],
   "source": [
    "import os\n",
    "import urllib.request\n",
    "if not os.path.exists('data'):\n",
    "    os.mkdir('data')\n",
    "urllib.request.urlretrieve(DATA_URL, DATA_FILE)"
   ]
  },
  {
   "cell_type": "code",
   "execution_count": 47,
   "metadata": {},
   "outputs": [],
   "source": [
    "# Load historical data from local file\n",
    "df = pd.read_csv(DATA_FILE, \n",
    "                 parse_dates=['Date'],\n",
    "                 encoding=\"ISO-8859-1\",\n",
    "                 dtype={\"RegionName\": str,\n",
    "                        \"RegionCode\": str},\n",
    "                 error_bad_lines=False)"
   ]
  },
  {
   "cell_type": "code",
   "execution_count": 48,
   "metadata": {},
   "outputs": [
    {
     "data": {
      "text/plain": [
       "Index(['CountryName', 'CountryCode', 'RegionName', 'RegionCode',\n",
       "       'Jurisdiction', 'Date', 'C1_School closing', 'C1_Flag',\n",
       "       'C2_Workplace closing', 'C2_Flag', 'C3_Cancel public events', 'C3_Flag',\n",
       "       'C4_Restrictions on gatherings', 'C4_Flag', 'C5_Close public transport',\n",
       "       'C5_Flag', 'C6_Stay at home requirements', 'C6_Flag',\n",
       "       'C7_Restrictions on internal movement', 'C7_Flag',\n",
       "       'C8_International travel controls', 'E1_Income support', 'E1_Flag',\n",
       "       'E2_Debt/contract relief', 'E3_Fiscal measures',\n",
       "       'E4_International support', 'H1_Public information campaigns',\n",
       "       'H1_Flag', 'H2_Testing policy', 'H3_Contact tracing',\n",
       "       'H4_Emergency investment in healthcare', 'H5_Investment in vaccines',\n",
       "       'H6_Facial Coverings', 'H6_Flag', 'H7_Vaccination policy', 'H7_Flag',\n",
       "       'M1_Wildcard', 'ConfirmedCases', 'ConfirmedDeaths', 'StringencyIndex',\n",
       "       'StringencyIndexForDisplay', 'StringencyLegacyIndex',\n",
       "       'StringencyLegacyIndexForDisplay', 'GovernmentResponseIndex',\n",
       "       'GovernmentResponseIndexForDisplay', 'ContainmentHealthIndex',\n",
       "       'ContainmentHealthIndexForDisplay', 'EconomicSupportIndex',\n",
       "       'EconomicSupportIndexForDisplay'],\n",
       "      dtype='object')"
      ]
     },
     "execution_count": 48,
     "metadata": {},
     "output_type": "execute_result"
    }
   ],
   "source": [
    "df.columns"
   ]
  },
  {
   "cell_type": "code",
   "execution_count": 49,
   "metadata": {},
   "outputs": [],
   "source": [
    "# For testing, restrict training data to that before a hypothetical predictor submission date\n",
    "HYPOTHETICAL_SUBMISSION_DATE = np.datetime64(\"2020-07-31\")\n",
    "df = df[df.Date <= HYPOTHETICAL_SUBMISSION_DATE]"
   ]
  },
  {
   "cell_type": "code",
   "execution_count": 50,
   "metadata": {},
   "outputs": [],
   "source": [
    "df=create_dataset(df)"
   ]
  },
  {
   "cell_type": "code",
   "execution_count": 51,
   "metadata": {},
   "outputs": [],
   "source": [
    "# Keep only columns of interest\n",
    "id_cols = ['CountryName',\n",
    "           'RegionName',\n",
    "           'GeoID',\n",
    "           'Date']\n",
    "# Columns we care just about the last value (usually it's always the same value for most of them)\n",
    "adj_cols_fixed=[ 'PastCases','Population',\n",
    "       'Population Density (# per km2)',\n",
    "       'Urban population (% of total population)',\n",
    "       'Population ages 65 and above (% of total population)',\n",
    "       'GDP per capita (current US$)', 'Obesity Rate (%)', 'Cancer Rate (%)',\n",
    "       'Share of Deaths from Smoking (%)', 'Pneumonia Death Rate (per 100K)',\n",
    "       'Share of Deaths from Air Pollution (%)',\n",
    "       'CO2 emissions (metric tons per capita)',\n",
    "       'Air transport (# carrier departures worldwide)']\n",
    "\n",
    "# Columns we would like to include for the last nb_lookback days\n",
    "adj_cols_time=['TemperatureC']\n",
    "\n",
    "\n",
    "cases_col = ['NewCases']\n",
    "npi_cols = ['C1_School closing',\n",
    "            'C2_Workplace closing',\n",
    "            'C3_Cancel public events',\n",
    "            'C4_Restrictions on gatherings',\n",
    "            'C5_Close public transport',\n",
    "            'C6_Stay at home requirements',\n",
    "            'C7_Restrictions on internal movement',\n",
    "            'C8_International travel controls',\n",
    "            'H1_Public information campaigns',\n",
    "            'H2_Testing policy',\n",
    "            'H3_Contact tracing',\n",
    "            'H6_Facial Coverings']\n"
   ]
  },
  {
   "cell_type": "code",
   "execution_count": 52,
   "metadata": {},
   "outputs": [],
   "source": [
    "# Fill also missing CONFIRMED case values by interpolation and setting NaNs to 0\n",
    "df.update(df.groupby('GeoID').ConfirmedCases.apply(\n",
    "    lambda group: group.interpolate()).fillna(0))"
   ]
  },
  {
   "cell_type": "code",
   "execution_count": 28,
   "metadata": {},
   "outputs": [],
   "source": [
    "#df=add_population_data(df)\n",
    "#df=add_temp(df)"
   ]
  },
  {
   "cell_type": "code",
   "execution_count": 13,
   "metadata": {},
   "outputs": [],
   "source": [
    "#df['PastCases']=df.ConfirmedCases.values"
   ]
  },
  {
   "cell_type": "code",
   "execution_count": 53,
   "metadata": {},
   "outputs": [
    {
     "data": {
      "text/plain": [
       "Index(['CountryName', 'CountryCode', 'RegionName', 'RegionCode',\n",
       "       'Jurisdiction', 'Date', 'C1_School closing', 'C1_Flag',\n",
       "       'C2_Workplace closing', 'C2_Flag', 'C3_Cancel public events', 'C3_Flag',\n",
       "       'C4_Restrictions on gatherings', 'C4_Flag', 'C5_Close public transport',\n",
       "       'C5_Flag', 'C6_Stay at home requirements', 'C6_Flag',\n",
       "       'C7_Restrictions on internal movement', 'C7_Flag',\n",
       "       'C8_International travel controls', 'E1_Income support', 'E1_Flag',\n",
       "       'E2_Debt/contract relief', 'E3_Fiscal measures',\n",
       "       'E4_International support', 'H1_Public information campaigns',\n",
       "       'H1_Flag', 'H2_Testing policy', 'H3_Contact tracing',\n",
       "       'H4_Emergency investment in healthcare', 'H5_Investment in vaccines',\n",
       "       'H6_Facial Coverings', 'H6_Flag', 'H7_Vaccination policy', 'H7_Flag',\n",
       "       'M1_Wildcard', 'ConfirmedCases', 'ConfirmedDeaths', 'StringencyIndex',\n",
       "       'StringencyIndexForDisplay', 'StringencyLegacyIndex',\n",
       "       'StringencyLegacyIndexForDisplay', 'GovernmentResponseIndex',\n",
       "       'GovernmentResponseIndexForDisplay', 'ContainmentHealthIndex',\n",
       "       'ContainmentHealthIndexForDisplay', 'EconomicSupportIndex',\n",
       "       'EconomicSupportIndexForDisplay', 'GeoID', 'NewCases'],\n",
       "      dtype='object')"
      ]
     },
     "execution_count": 53,
     "metadata": {},
     "output_type": "execute_result"
    }
   ],
   "source": [
    "df.columns"
   ]
  },
  {
   "cell_type": "code",
   "execution_count": 54,
   "metadata": {},
   "outputs": [],
   "source": [
    "# Keep only columns of interest\n",
    "df = df[id_cols+ cases_col  +  npi_cols]"
   ]
  },
  {
   "cell_type": "code",
   "execution_count": 55,
   "metadata": {},
   "outputs": [
    {
     "data": {
      "text/plain": [
       "CountryName                             56445\n",
       "RegionName                              17679\n",
       "GeoID                                   56445\n",
       "Date                                    56445\n",
       "NewCases                                56445\n",
       "C1_School closing                       56445\n",
       "C2_Workplace closing                    56445\n",
       "C3_Cancel public events                 56445\n",
       "C4_Restrictions on gatherings           56445\n",
       "C5_Close public transport               56445\n",
       "C6_Stay at home requirements            56445\n",
       "C7_Restrictions on internal movement    56445\n",
       "C8_International travel controls        56445\n",
       "H1_Public information campaigns         56445\n",
       "H2_Testing policy                       56445\n",
       "H3_Contact tracing                      56445\n",
       "H6_Facial Coverings                     56445\n",
       "dtype: int64"
      ]
     },
     "execution_count": 55,
     "metadata": {},
     "output_type": "execute_result"
    }
   ],
   "source": [
    "df.count()"
   ]
  },
  {
   "cell_type": "code",
   "execution_count": 56,
   "metadata": {},
   "outputs": [
    {
     "name": "stdout",
     "output_type": "stream",
     "text": [
      "(48230, 390)\n",
      "(48230,)\n"
     ]
    }
   ],
   "source": [
    "lookback_days=30\n",
    "#infection_days=15\n",
    "\n",
    "X_samples, y_samples= skl_format(df,cases_col,[],[],npi_cols,lookback_days)\n",
    "print(X_samples.shape)\n",
    "print(y_samples.shape)"
   ]
  },
  {
   "cell_type": "code",
   "execution_count": 57,
   "metadata": {},
   "outputs": [],
   "source": [
    "# Helpful function to compute mae\n",
    "def mae(pred, true):\n",
    "    return np.mean(np.abs(pred - true))"
   ]
  },
  {
   "cell_type": "code",
   "execution_count": 58,
   "metadata": {},
   "outputs": [],
   "source": [
    "# Split data into train and test sets\n",
    "X_train, X_test, y_train, y_test = train_test_split(X_samples,\n",
    "                                                    y_samples,\n",
    "                                                    test_size=0.2,\n",
    "                                                    random_state=301)"
   ]
  },
  {
   "cell_type": "code",
   "execution_count": 59,
   "metadata": {},
   "outputs": [
    {
     "data": {
      "text/plain": [
       "Lasso(alpha=0.1, max_iter=50000, precompute=True, selection='random')"
      ]
     },
     "execution_count": 59,
     "metadata": {},
     "output_type": "execute_result"
    }
   ],
   "source": [
    "# Create and train Lasso model.\n",
    "# Set positive=True to enforce assumption that cases are positively correlated\n",
    "# with future cases and npis are negatively correlated.\n",
    "model = Lasso(alpha=0.1,\n",
    "              precompute=True,\n",
    "              max_iter=50000,\n",
    "              #positive=True,\n",
    "              selection='random')\n",
    "# Fit model\n",
    "model.fit(X_train, y_train)"
   ]
  },
  {
   "cell_type": "code",
   "execution_count": 60,
   "metadata": {},
   "outputs": [
    {
     "name": "stdout",
     "output_type": "stream",
     "text": [
      "Train MAE: 119.52551824682615\n",
      "Test MAE: 120.84057110248726\n"
     ]
    }
   ],
   "source": [
    "# Evaluate model\n",
    "train_preds = model.predict(X_train)\n",
    "train_preds = np.maximum(train_preds, 0) # Don't predict negative cases\n",
    "print('Train MAE:', mae(train_preds, y_train))\n",
    "\n",
    "test_preds = model.predict(X_test)\n",
    "test_preds = np.maximum(test_preds, 0) # Don't predict negative cases\n",
    "print('Test MAE:', mae(test_preds, y_test))"
   ]
  },
  {
   "cell_type": "code",
   "execution_count": 61,
   "metadata": {},
   "outputs": [
    {
     "name": "stdout",
     "output_type": "stream",
     "text": [
      "Day -30 NewCases -0.07553056554304612\n",
      "Day -29 NewCases 0.09163188115161151\n",
      "Day -28 NewCases 0.020279509644311158\n",
      "Day -27 NewCases 0.07291874072964202\n",
      "Day -26 NewCases -0.026985749312220156\n",
      "Day -25 NewCases 0.005295383720726903\n",
      "Day -24 NewCases -0.024090572669522848\n",
      "Day -23 NewCases -0.10280775979023506\n",
      "Day -22 NewCases 0.05765878972055543\n",
      "Day -21 NewCases 0.07876813141910828\n",
      "Day -20 NewCases 0.1180425751136243\n",
      "Day -19 NewCases -0.1318729842284252\n",
      "Day -18 NewCases -0.08358438505427639\n",
      "Day -17 NewCases -0.02420899368811808\n",
      "Day -16 NewCases -0.11348805686786517\n",
      "Day -15 NewCases -0.011592487402624252\n",
      "Day -14 NewCases 0.10960465362320398\n",
      "Day -13 NewCases 0.012947928358683627\n",
      "Day -12 NewCases 0.01231205562175066\n",
      "Day -11 NewCases -0.1062585109875255\n",
      "Day -10 NewCases -0.14276417922178297\n",
      "Day -9 NewCases -0.028322153237043388\n",
      "Day -8 NewCases -0.059374463106869085\n",
      "Day -7 NewCases 0.27206217091241447\n",
      "Day -6 NewCases 0.1400236277188523\n",
      "Day -5 NewCases 0.10887581922823904\n",
      "Day -4 NewCases 0.16549634974035748\n",
      "Day -3 NewCases 0.2030689319932067\n",
      "Day -2 NewCases 0.09911375676192159\n",
      "Day -1 NewCases 0.38152981701276645\n",
      "Day -30 C1_School closing 7.904661047397961\n",
      "Day -30 C2_Workplace closing 5.767380145007046\n",
      "Day -30 C3_Cancel public events -1.6220856114493092\n",
      "Day -30 C4_Restrictions on gatherings -9.383416181901799\n",
      "Day -30 C5_Close public transport 6.411008248299549\n",
      "Day -30 C6_Stay at home requirements -20.167100195253987\n",
      "Day -30 C8_International travel controls -1.6177898441996905\n",
      "Day -30 H1_Public information campaigns 4.225658760430601\n",
      "Day -30 H2_Testing policy 1.9559193351446136\n",
      "Day -30 H3_Contact tracing 6.627863203856664\n",
      "Day -30 H6_Facial Coverings -9.212949177170684\n",
      "Day -29 C1_School closing -1.5856025029698961\n",
      "Day -29 C2_Workplace closing 6.285318961737448\n",
      "Day -29 C4_Restrictions on gatherings 10.539491256154257\n",
      "Day -29 C5_Close public transport -21.58081825956501\n",
      "Day -29 C6_Stay at home requirements 10.809422905045059\n",
      "Day -29 C8_International travel controls 1.6651479531707307\n",
      "Day -29 H1_Public information campaigns -17.669691292368885\n",
      "Day -29 H2_Testing policy -8.322999492068627\n",
      "Day -29 H6_Facial Coverings -5.1447454792044995\n",
      "Day -28 C1_School closing 3.3877521852897\n",
      "Day -28 C3_Cancel public events 10.396729260560056\n",
      "Day -28 C4_Restrictions on gatherings -4.716364543626788\n",
      "Day -28 C5_Close public transport 13.289319104282791\n",
      "Day -28 C6_Stay at home requirements -6.5433525545333975\n",
      "Day -28 C8_International travel controls 0.4140376596789289\n",
      "Day -28 H1_Public information campaigns -2.883960067801219\n",
      "Day -28 H2_Testing policy -5.199205260073766\n",
      "Day -28 H3_Contact tracing 1.4388347138110602\n",
      "Day -28 H6_Facial Coverings 8.689111286619225\n",
      "Day -27 C2_Workplace closing 61.17010791872856\n",
      "Day -27 C3_Cancel public events -33.410801981094636\n",
      "Day -27 C5_Close public transport -6.335962102334522\n",
      "Day -27 C6_Stay at home requirements 35.13069179029387\n",
      "Day -27 C7_Restrictions on internal movement -18.866370293884472\n",
      "Day -27 C8_International travel controls 23.32552988053272\n",
      "Day -27 H2_Testing policy -22.21719929277398\n",
      "Day -27 H3_Contact tracing -3.173755991683637\n",
      "Day -27 H6_Facial Coverings -2.88830521974099\n",
      "Day -26 C1_School closing -2.594513245737058\n",
      "Day -26 C2_Workplace closing -90.01333274801446\n",
      "Day -26 C3_Cancel public events 21.479304245214774\n",
      "Day -26 C4_Restrictions on gatherings 3.108929940057077\n",
      "Day -26 C6_Stay at home requirements 2.8438348938416484\n",
      "Day -26 C8_International travel controls -19.733244035307372\n",
      "Day -26 H1_Public information campaigns 11.035438225534383\n",
      "Day -26 H2_Testing policy 49.471131777317346\n",
      "Day -26 H3_Contact tracing -13.83451374103227\n",
      "Day -26 H6_Facial Coverings 10.366363246101942\n",
      "Day -25 C2_Workplace closing 1.929761920092324\n",
      "Day -25 C8_International travel controls -5.707273573716651\n",
      "Day -25 H6_Facial Coverings 11.576248028865942\n",
      "Day -24 C1_School closing 8.069271273698025\n",
      "Day -24 C2_Workplace closing -7.600434250057251\n",
      "Day -24 C3_Cancel public events 3.3331903086754386\n",
      "Day -24 C4_Restrictions on gatherings 4.559391182567296\n",
      "Day -24 C5_Close public transport -11.970373744831459\n",
      "Day -24 C7_Restrictions on internal movement -10.466143922633456\n",
      "Day -24 H6_Facial Coverings -11.142344792461598\n",
      "Day -23 C1_School closing -0.3947166843533959\n",
      "Day -23 C2_Workplace closing -5.463101576328076\n",
      "Day -23 C3_Cancel public events 36.977818940903795\n",
      "Day -23 C4_Restrictions on gatherings 5.2715153908720325\n",
      "Day -23 C6_Stay at home requirements -5.25588076951648\n",
      "Day -23 H2_Testing policy -12.672370400657133\n",
      "Day -23 H6_Facial Coverings -13.08482251281361\n",
      "Day -22 C1_School closing -7.07080236676645\n",
      "Day -22 C2_Workplace closing 18.699114313072155\n",
      "Day -22 C3_Cancel public events -18.20081173407636\n",
      "Day -22 C4_Restrictions on gatherings -29.134233375868966\n",
      "Day -22 C5_Close public transport 23.21679519318006\n",
      "Day -22 C6_Stay at home requirements -17.489325503653486\n",
      "Day -22 C7_Restrictions on internal movement 54.397459845770726\n",
      "Day -22 H2_Testing policy -13.119197423399399\n",
      "Day -22 H3_Contact tracing -1.9525879709753187\n",
      "Day -22 H6_Facial Coverings -25.9635704197281\n",
      "Day -21 C1_School closing 1.869696154272504\n",
      "Day -21 C2_Workplace closing 0.8805695689416119\n",
      "Day -21 C3_Cancel public events -3.4996747751011994\n",
      "Day -21 C4_Restrictions on gatherings 9.752916132551663\n",
      "Day -21 C5_Close public transport -18.75880539845827\n",
      "Day -21 C7_Restrictions on internal movement -22.218984081488873\n",
      "Day -21 C8_International travel controls -1.064580277559349\n",
      "Day -21 H6_Facial Coverings -2.15614778774735\n",
      "Day -20 C4_Restrictions on gatherings -1.8676927082736223\n",
      "Day -20 C6_Stay at home requirements -11.256442255749548\n",
      "Day -20 C8_International travel controls -4.8496790981017535\n",
      "Day -20 H1_Public information campaigns 11.422389080276758\n",
      "Day -20 H2_Testing policy -0.17526660337469688\n",
      "Day -20 H6_Facial Coverings 51.89454994147991\n",
      "Day -19 C1_School closing 25.23989241419682\n",
      "Day -19 C2_Workplace closing 16.329760637189086\n",
      "Day -19 C4_Restrictions on gatherings 3.1686887692085652\n",
      "Day -19 C5_Close public transport 13.45786148144006\n",
      "Day -19 C6_Stay at home requirements 1.8794027878742203\n",
      "Day -19 C7_Restrictions on internal movement -23.634094463431044\n",
      "Day -19 C8_International travel controls 3.7698336802496004\n",
      "Day -19 H2_Testing policy -18.1539712146517\n",
      "Day -18 C1_School closing -30.48805584351222\n",
      "Day -18 C2_Workplace closing -14.03078788940509\n",
      "Day -18 C6_Stay at home requirements 5.91750578902513\n",
      "Day -18 C7_Restrictions on internal movement 28.456331818458008\n",
      "Day -18 C8_International travel controls -2.2143992744119743\n",
      "Day -18 H2_Testing policy 48.335987323689615\n",
      "Day -18 H3_Contact tracing 6.605745381835883\n",
      "Day -17 C2_Workplace closing 0.7817658605857143\n",
      "Day -17 C4_Restrictions on gatherings 12.320707438320087\n",
      "Day -17 C5_Close public transport 2.860530592333684\n",
      "Day -17 C7_Restrictions on internal movement -16.7159031263659\n",
      "Day -17 C8_International travel controls -5.708296865496957\n",
      "Day -17 H2_Testing policy -23.532219204678498\n",
      "Day -17 H6_Facial Coverings -9.269358507462458\n",
      "Day -16 C1_School closing -0.21659648867496367\n",
      "Day -16 C2_Workplace closing 5.014935047786614\n",
      "Day -16 C4_Restrictions on gatherings -5.510189128347629\n",
      "Day -16 C6_Stay at home requirements -3.291364449492835\n",
      "Day -16 C7_Restrictions on internal movement -10.632798115500316\n",
      "Day -16 H1_Public information campaigns 0.3100129512155945\n",
      "Day -16 H2_Testing policy 56.56222294342587\n",
      "Day -16 H3_Contact tracing -15.77801708090562\n",
      "Day -16 H6_Facial Coverings -0.005350158257500594\n",
      "Day -15 C1_School closing 6.012336184847675\n",
      "Day -15 C7_Restrictions on internal movement 39.73814940330039\n",
      "Day -15 C8_International travel controls 3.8180670050917564\n",
      "Day -15 H2_Testing policy -41.19644893320657\n",
      "Day -15 H6_Facial Coverings 11.056816647418145\n",
      "Day -14 C1_School closing -10.910490357587848\n",
      "Day -14 C3_Cancel public events 1.434448855232668\n",
      "Day -14 C4_Restrictions on gatherings -1.1169054084271979\n",
      "Day -14 C5_Close public transport 4.967034547796623\n",
      "Day -14 C6_Stay at home requirements 25.605956152267872\n",
      "Day -14 C7_Restrictions on internal movement -14.759794437298847\n",
      "Day -14 H6_Facial Coverings -8.410810564217137\n",
      "Day -13 C1_School closing 7.848551234155231\n",
      "Day -13 C2_Workplace closing 10.53193471485418\n",
      "Day -13 C4_Restrictions on gatherings -11.233208748274208\n",
      "Day -13 C5_Close public transport -15.621316566703854\n",
      "Day -13 C6_Stay at home requirements 21.082431931145997\n",
      "Day -13 C7_Restrictions on internal movement -8.024326113379596\n",
      "Day -13 C8_International travel controls -2.835068970273765\n",
      "Day -13 H2_Testing policy -5.621987284701167\n",
      "Day -13 H6_Facial Coverings -0.18032696423050146\n",
      "Day -12 C3_Cancel public events 3.22423150236942\n",
      "Day -12 C4_Restrictions on gatherings 9.121013657094595\n",
      "Day -12 C5_Close public transport 14.218300489209549\n",
      "Day -12 C6_Stay at home requirements -32.55255103736731\n",
      "Day -12 C7_Restrictions on internal movement -5.4090846269252255\n",
      "Day -12 H2_Testing policy -2.114528387346972\n",
      "Day -11 C2_Workplace closing -4.3523819458393955\n",
      "Day -11 C4_Restrictions on gatherings 7.641088858083291\n",
      "Day -11 H2_Testing policy 38.630503089655654\n",
      "Day -11 H3_Contact tracing 4.3022728549651506\n",
      "Day -11 H6_Facial Coverings -5.029688649584701\n",
      "Day -10 C1_School closing -1.6188427574579751\n",
      "Day -10 C2_Workplace closing 1.0508017090166106\n",
      "Day -10 C3_Cancel public events -8.963526044254557\n",
      "Day -10 C4_Restrictions on gatherings -3.0777084065109253\n",
      "Day -10 C5_Close public transport -22.759123199122968\n",
      "Day -10 C6_Stay at home requirements 2.79748085322057\n",
      "Day -10 C7_Restrictions on internal movement 22.341967036964665\n",
      "Day -10 C8_International travel controls 6.143815339058821\n",
      "Day -10 H2_Testing policy -38.17677109563031\n",
      "Day -10 H6_Facial Coverings -7.983805488764194\n",
      "Day -9 C3_Cancel public events -3.1921868945539726\n",
      "Day -9 C4_Restrictions on gatherings 1.1967561590671278\n",
      "Day -9 C5_Close public transport -0.3656092710985285\n",
      "Day -9 C6_Stay at home requirements 6.148636764021054\n",
      "Day -9 C8_International travel controls 3.5646376103960953\n",
      "Day -9 H2_Testing policy -8.819289131162318\n",
      "Day -8 C4_Restrictions on gatherings -2.118126991260106\n",
      "Day -8 C5_Close public transport -17.161598852354505\n",
      "Day -8 C7_Restrictions on internal movement -0.3285978567261406\n",
      "Day -8 H2_Testing policy -14.812608995435271\n",
      "Day -7 C1_School closing -2.803625286013498\n",
      "Day -7 C2_Workplace closing 5.726630570381967\n",
      "Day -7 C4_Restrictions on gatherings -1.6403971807319992\n",
      "Day -7 C6_Stay at home requirements -8.484598832707842\n",
      "Day -7 C7_Restrictions on internal movement 1.3009018807186836\n",
      "Day -7 C8_International travel controls 0.49499603534478154\n",
      "Day -7 H1_Public information campaigns -1.7170501942291219\n",
      "Day -6 C2_Workplace closing 2.9620481538761583\n",
      "Day -6 C5_Close public transport 34.11793762630724\n",
      "Day -6 C6_Stay at home requirements 1.9437351849716193\n",
      "Day -6 C7_Restrictions on internal movement -20.60087249721368\n",
      "Day -6 H2_Testing policy 15.67896250371225\n",
      "Day -6 H3_Contact tracing 6.631084577197705\n",
      "Day -6 H6_Facial Coverings -14.340362050574276\n",
      "Day -5 C1_School closing 2.7939819126661325\n",
      "Day -5 C2_Workplace closing 1.9116020860450154\n",
      "Day -5 C5_Close public transport -12.825971248270548\n",
      "Day -5 H2_Testing policy -8.346825120245633\n",
      "Day -5 H6_Facial Coverings 17.04719647561258\n",
      "Day -4 C2_Workplace closing -6.104623719155754\n",
      "Day -4 C5_Close public transport 2.881807819047007\n",
      "Day -4 C6_Stay at home requirements 5.347767986379699\n",
      "Day -4 C7_Restrictions on internal movement -15.493072370039236\n",
      "Day -4 H2_Testing policy 10.273033284094957\n",
      "Day -3 C2_Workplace closing -1.1493422304328822\n",
      "Day -3 C3_Cancel public events -3.7764157256357196\n",
      "Day -3 C4_Restrictions on gatherings 3.831330659060585\n",
      "Day -3 C7_Restrictions on internal movement 9.75323729916868\n",
      "Day -3 H6_Facial Coverings 1.705692158506289\n",
      "Day -2 C2_Workplace closing -5.250747121326308\n",
      "Day -2 C5_Close public transport -6.581783195269446\n",
      "Day -2 C6_Stay at home requirements 1.7913545027499516\n",
      "Day -2 C8_International travel controls 6.640340390143714\n",
      "Day -2 H1_Public information campaigns -3.155509320985527\n",
      "Day -2 H2_Testing policy 3.946422536711697\n",
      "Day -1 C1_School closing -1.1693283259317688\n",
      "Day -1 C5_Close public transport 5.737395383422575\n",
      "Day -1 C6_Stay at home requirements -15.11454249554815\n",
      "Day -1 C7_Restrictions on internal movement 8.052929358686827\n",
      "Day -1 C8_International travel controls -10.433928511704597\n",
      "Day -1 H1_Public information campaigns -0.13541395307876306\n",
      "Day -1 H6_Facial Coverings -0.8265224224391449\n",
      "Intercept -3.4630094451662785\n"
     ]
    }
   ],
   "source": [
    "# Inspect the learned feature coefficients for the model\n",
    "# to see what features it's paying attention to.\n",
    "\n",
    "# Give names to the features\n",
    "x_col_names = []\n",
    "for d in range(-lookback_days, 0):\n",
    "    x_col_names.append('Day ' + str(d) + ' ' + cases_col[0])\n",
    "for d in range(-lookback_days, 1):\n",
    "    for col_name in npi_cols:\n",
    "        x_col_names.append('Day ' + str(d) + ' ' + col_name)\n",
    "\n",
    "# View non-zero coefficients\n",
    "for (col, coeff) in zip(x_col_names, list(model.coef_)):\n",
    "    if coeff != 0.:\n",
    "        print(col, coeff)\n",
    "print('Intercept', model.intercept_)"
   ]
  },
  {
   "cell_type": "code",
   "execution_count": 62,
   "metadata": {},
   "outputs": [],
   "source": [
    "# Save model to file\n",
    "if not os.path.exists('models'):\n",
    "    os.mkdir('models')\n",
    "with open('models/model.pkl', 'wb') as model_file:\n",
    "    pickle.dump(model, model_file)"
   ]
  },
  {
   "cell_type": "markdown",
   "metadata": {},
   "source": [
    "## Evaluation\n",
    "\n",
    "Now that the predictor has been trained and saved, this section contains the functionality for evaluating it on sample evaluation data."
   ]
  },
  {
   "cell_type": "code",
   "execution_count": 63,
   "metadata": {},
   "outputs": [],
   "source": [
    "# Reload the module to get the latest changes\n",
    "import predict_linear\n",
    "from importlib import reload\n",
    "reload(predict_linear)\n",
    "from predict_linear import predict_df"
   ]
  },
  {
   "cell_type": "code",
   "execution_count": 65,
   "metadata": {},
   "outputs": [
    {
     "name": "stdout",
     "output_type": "stream",
     "text": [
      "CPU times: user 9.26 s, sys: 71.2 ms, total: 9.33 s\n",
      "Wall time: 9.32 s\n"
     ]
    }
   ],
   "source": [
    "%%time\n",
    "preds_df = predict_df(\"2020-08-01\", \"2020-08-31\", path_to_ips_file=\"../../covid_xprize/validation/data/2020-09-30_historical_ip.csv\", verbose=False)"
   ]
  },
  {
   "cell_type": "code",
   "execution_count": 67,
   "metadata": {},
   "outputs": [
    {
     "data": {
      "text/html": [
       "<div>\n",
       "<style scoped>\n",
       "    .dataframe tbody tr th:only-of-type {\n",
       "        vertical-align: middle;\n",
       "    }\n",
       "\n",
       "    .dataframe tbody tr th {\n",
       "        vertical-align: top;\n",
       "    }\n",
       "\n",
       "    .dataframe thead th {\n",
       "        text-align: right;\n",
       "    }\n",
       "</style>\n",
       "<table border=\"1\" class=\"dataframe\">\n",
       "  <thead>\n",
       "    <tr style=\"text-align: right;\">\n",
       "      <th></th>\n",
       "      <th>CountryName</th>\n",
       "      <th>RegionName</th>\n",
       "      <th>Date</th>\n",
       "      <th>PredictedDailyNewCases</th>\n",
       "    </tr>\n",
       "  </thead>\n",
       "  <tbody>\n",
       "    <tr>\n",
       "      <th>23503</th>\n",
       "      <td>Italy</td>\n",
       "      <td>NaN</td>\n",
       "      <td>2020-08-01</td>\n",
       "      <td>10836.337435</td>\n",
       "    </tr>\n",
       "    <tr>\n",
       "      <th>23504</th>\n",
       "      <td>Italy</td>\n",
       "      <td>NaN</td>\n",
       "      <td>2020-08-02</td>\n",
       "      <td>8764.012402</td>\n",
       "    </tr>\n",
       "    <tr>\n",
       "      <th>23505</th>\n",
       "      <td>Italy</td>\n",
       "      <td>NaN</td>\n",
       "      <td>2020-08-03</td>\n",
       "      <td>3516.575950</td>\n",
       "    </tr>\n",
       "    <tr>\n",
       "      <th>23506</th>\n",
       "      <td>Italy</td>\n",
       "      <td>NaN</td>\n",
       "      <td>2020-08-04</td>\n",
       "      <td>3194.205584</td>\n",
       "    </tr>\n",
       "    <tr>\n",
       "      <th>23507</th>\n",
       "      <td>Italy</td>\n",
       "      <td>NaN</td>\n",
       "      <td>2020-08-05</td>\n",
       "      <td>6293.842563</td>\n",
       "    </tr>\n",
       "    <tr>\n",
       "      <th>23508</th>\n",
       "      <td>Italy</td>\n",
       "      <td>NaN</td>\n",
       "      <td>2020-08-06</td>\n",
       "      <td>8256.155613</td>\n",
       "    </tr>\n",
       "    <tr>\n",
       "      <th>23509</th>\n",
       "      <td>Italy</td>\n",
       "      <td>NaN</td>\n",
       "      <td>2020-08-07</td>\n",
       "      <td>5718.777602</td>\n",
       "    </tr>\n",
       "    <tr>\n",
       "      <th>23510</th>\n",
       "      <td>Italy</td>\n",
       "      <td>NaN</td>\n",
       "      <td>2020-08-08</td>\n",
       "      <td>6563.750382</td>\n",
       "    </tr>\n",
       "    <tr>\n",
       "      <th>23511</th>\n",
       "      <td>Italy</td>\n",
       "      <td>NaN</td>\n",
       "      <td>2020-08-09</td>\n",
       "      <td>2852.398083</td>\n",
       "    </tr>\n",
       "    <tr>\n",
       "      <th>23512</th>\n",
       "      <td>Italy</td>\n",
       "      <td>NaN</td>\n",
       "      <td>2020-08-10</td>\n",
       "      <td>724.047882</td>\n",
       "    </tr>\n",
       "    <tr>\n",
       "      <th>23513</th>\n",
       "      <td>Italy</td>\n",
       "      <td>NaN</td>\n",
       "      <td>2020-08-11</td>\n",
       "      <td>1390.531083</td>\n",
       "    </tr>\n",
       "    <tr>\n",
       "      <th>23514</th>\n",
       "      <td>Italy</td>\n",
       "      <td>NaN</td>\n",
       "      <td>2020-08-12</td>\n",
       "      <td>3253.229387</td>\n",
       "    </tr>\n",
       "    <tr>\n",
       "      <th>23515</th>\n",
       "      <td>Italy</td>\n",
       "      <td>NaN</td>\n",
       "      <td>2020-08-13</td>\n",
       "      <td>5536.043817</td>\n",
       "    </tr>\n",
       "    <tr>\n",
       "      <th>23516</th>\n",
       "      <td>Italy</td>\n",
       "      <td>NaN</td>\n",
       "      <td>2020-08-14</td>\n",
       "      <td>4609.454640</td>\n",
       "    </tr>\n",
       "    <tr>\n",
       "      <th>23517</th>\n",
       "      <td>Italy</td>\n",
       "      <td>NaN</td>\n",
       "      <td>2020-08-15</td>\n",
       "      <td>4169.394645</td>\n",
       "    </tr>\n",
       "    <tr>\n",
       "      <th>23518</th>\n",
       "      <td>Italy</td>\n",
       "      <td>NaN</td>\n",
       "      <td>2020-08-16</td>\n",
       "      <td>2461.975889</td>\n",
       "    </tr>\n",
       "    <tr>\n",
       "      <th>23519</th>\n",
       "      <td>Italy</td>\n",
       "      <td>NaN</td>\n",
       "      <td>2020-08-17</td>\n",
       "      <td>320.557031</td>\n",
       "    </tr>\n",
       "    <tr>\n",
       "      <th>23520</th>\n",
       "      <td>Italy</td>\n",
       "      <td>NaN</td>\n",
       "      <td>2020-08-18</td>\n",
       "      <td>1045.976628</td>\n",
       "    </tr>\n",
       "    <tr>\n",
       "      <th>23521</th>\n",
       "      <td>Italy</td>\n",
       "      <td>NaN</td>\n",
       "      <td>2020-08-19</td>\n",
       "      <td>5803.877308</td>\n",
       "    </tr>\n",
       "    <tr>\n",
       "      <th>23522</th>\n",
       "      <td>Italy</td>\n",
       "      <td>NaN</td>\n",
       "      <td>2020-08-20</td>\n",
       "      <td>5381.308844</td>\n",
       "    </tr>\n",
       "    <tr>\n",
       "      <th>23523</th>\n",
       "      <td>Italy</td>\n",
       "      <td>NaN</td>\n",
       "      <td>2020-08-21</td>\n",
       "      <td>5516.658316</td>\n",
       "    </tr>\n",
       "    <tr>\n",
       "      <th>23524</th>\n",
       "      <td>Italy</td>\n",
       "      <td>NaN</td>\n",
       "      <td>2020-08-22</td>\n",
       "      <td>5283.989225</td>\n",
       "    </tr>\n",
       "    <tr>\n",
       "      <th>23525</th>\n",
       "      <td>Italy</td>\n",
       "      <td>NaN</td>\n",
       "      <td>2020-08-23</td>\n",
       "      <td>4876.494347</td>\n",
       "    </tr>\n",
       "    <tr>\n",
       "      <th>23526</th>\n",
       "      <td>Italy</td>\n",
       "      <td>NaN</td>\n",
       "      <td>2020-08-24</td>\n",
       "      <td>2680.251928</td>\n",
       "    </tr>\n",
       "    <tr>\n",
       "      <th>23527</th>\n",
       "      <td>Italy</td>\n",
       "      <td>NaN</td>\n",
       "      <td>2020-08-25</td>\n",
       "      <td>2755.372099</td>\n",
       "    </tr>\n",
       "    <tr>\n",
       "      <th>23528</th>\n",
       "      <td>Italy</td>\n",
       "      <td>NaN</td>\n",
       "      <td>2020-08-26</td>\n",
       "      <td>7192.205997</td>\n",
       "    </tr>\n",
       "    <tr>\n",
       "      <th>23529</th>\n",
       "      <td>Italy</td>\n",
       "      <td>NaN</td>\n",
       "      <td>2020-08-27</td>\n",
       "      <td>7368.144278</td>\n",
       "    </tr>\n",
       "    <tr>\n",
       "      <th>23530</th>\n",
       "      <td>Italy</td>\n",
       "      <td>NaN</td>\n",
       "      <td>2020-08-28</td>\n",
       "      <td>8402.008622</td>\n",
       "    </tr>\n",
       "    <tr>\n",
       "      <th>23531</th>\n",
       "      <td>Italy</td>\n",
       "      <td>NaN</td>\n",
       "      <td>2020-08-29</td>\n",
       "      <td>6033.255025</td>\n",
       "    </tr>\n",
       "    <tr>\n",
       "      <th>23532</th>\n",
       "      <td>Italy</td>\n",
       "      <td>NaN</td>\n",
       "      <td>2020-08-30</td>\n",
       "      <td>6329.277848</td>\n",
       "    </tr>\n",
       "    <tr>\n",
       "      <th>23533</th>\n",
       "      <td>Italy</td>\n",
       "      <td>NaN</td>\n",
       "      <td>2020-08-31</td>\n",
       "      <td>4383.060463</td>\n",
       "    </tr>\n",
       "  </tbody>\n",
       "</table>\n",
       "</div>"
      ],
      "text/plain": [
       "      CountryName RegionName       Date  PredictedDailyNewCases\n",
       "23503       Italy        NaN 2020-08-01            10836.337435\n",
       "23504       Italy        NaN 2020-08-02             8764.012402\n",
       "23505       Italy        NaN 2020-08-03             3516.575950\n",
       "23506       Italy        NaN 2020-08-04             3194.205584\n",
       "23507       Italy        NaN 2020-08-05             6293.842563\n",
       "23508       Italy        NaN 2020-08-06             8256.155613\n",
       "23509       Italy        NaN 2020-08-07             5718.777602\n",
       "23510       Italy        NaN 2020-08-08             6563.750382\n",
       "23511       Italy        NaN 2020-08-09             2852.398083\n",
       "23512       Italy        NaN 2020-08-10              724.047882\n",
       "23513       Italy        NaN 2020-08-11             1390.531083\n",
       "23514       Italy        NaN 2020-08-12             3253.229387\n",
       "23515       Italy        NaN 2020-08-13             5536.043817\n",
       "23516       Italy        NaN 2020-08-14             4609.454640\n",
       "23517       Italy        NaN 2020-08-15             4169.394645\n",
       "23518       Italy        NaN 2020-08-16             2461.975889\n",
       "23519       Italy        NaN 2020-08-17              320.557031\n",
       "23520       Italy        NaN 2020-08-18             1045.976628\n",
       "23521       Italy        NaN 2020-08-19             5803.877308\n",
       "23522       Italy        NaN 2020-08-20             5381.308844\n",
       "23523       Italy        NaN 2020-08-21             5516.658316\n",
       "23524       Italy        NaN 2020-08-22             5283.989225\n",
       "23525       Italy        NaN 2020-08-23             4876.494347\n",
       "23526       Italy        NaN 2020-08-24             2680.251928\n",
       "23527       Italy        NaN 2020-08-25             2755.372099\n",
       "23528       Italy        NaN 2020-08-26             7192.205997\n",
       "23529       Italy        NaN 2020-08-27             7368.144278\n",
       "23530       Italy        NaN 2020-08-28             8402.008622\n",
       "23531       Italy        NaN 2020-08-29             6033.255025\n",
       "23532       Italy        NaN 2020-08-30             6329.277848\n",
       "23533       Italy        NaN 2020-08-31             4383.060463"
      ]
     },
     "execution_count": 67,
     "metadata": {},
     "output_type": "execute_result"
    }
   ],
   "source": [
    "# Check the predictions\n",
    "preds_df[preds_df.CountryName=='Italy']"
   ]
  },
  {
   "cell_type": "markdown",
   "metadata": {},
   "source": [
    "# Validation\n",
    "This is how the predictor is going to be called during the competition.  \n",
    "!!! PLEASE DO NOT CHANGE THE API !!!"
   ]
  },
  {
   "cell_type": "code",
   "execution_count": null,
   "metadata": {},
   "outputs": [],
   "source": [
    "!python predict.py -s 2020-08-01 -e 2020-08-04 -ip ../../../validation/data/2020-09-30_historical_ip.csv -o predictions/2020-08-01_2020-08-04.csv"
   ]
  },
  {
   "cell_type": "code",
   "execution_count": null,
   "metadata": {},
   "outputs": [],
   "source": [
    "!head predictions/2020-08-01_2020-08-04.csv"
   ]
  },
  {
   "cell_type": "markdown",
   "metadata": {},
   "source": [
    "# Test cases\n",
    "We can generate a prediction file. Let's validate a few cases..."
   ]
  },
  {
   "cell_type": "code",
   "execution_count": null,
   "metadata": {},
   "outputs": [],
   "source": [
    "import os\n",
    "from covid_xprize.validation.predictor_validation import validate_submission\n",
    "\n",
    "def validate(start_date, end_date, ip_file, output_file):\n",
    "    # First, delete any potential old file\n",
    "    try:\n",
    "        os.remove(output_file)\n",
    "    except OSError:\n",
    "        pass\n",
    "    \n",
    "    # Then generate the prediction, calling the official API\n",
    "    !python predict.py -s {start_date} -e {end_date} -ip {ip_file} -o {output_file}\n",
    "    \n",
    "    # And validate it\n",
    "    errors = validate_submission(start_date, end_date, ip_file, output_file)\n",
    "    if errors:\n",
    "        for error in errors:\n",
    "            print(error)\n",
    "    else:\n",
    "        print(\"All good!\")"
   ]
  },
  {
   "cell_type": "markdown",
   "metadata": {},
   "source": [
    "## 4 days, no gap\n",
    "- All countries and regions\n",
    "- Official number of cases is known up to start_date\n",
    "- Intervention Plans are the official ones"
   ]
  },
  {
   "cell_type": "code",
   "execution_count": null,
   "metadata": {},
   "outputs": [],
   "source": [
    "validate(start_date=\"2020-08-01\",\n",
    "         end_date=\"2020-08-04\",\n",
    "         ip_file=\"../../../validation/data/2020-09-30_historical_ip.csv\",\n",
    "         output_file=\"predictions/val_4_days.csv\")"
   ]
  },
  {
   "cell_type": "markdown",
   "metadata": {},
   "source": [
    "## 1 month in the future\n",
    "- 2 countries only\n",
    "- there's a gap between date of last known number of cases and start_date\n",
    "- For future dates, Intervention Plans contains scenarios for which predictions are requested to answer the question: what will happen if we apply these plans?"
   ]
  },
  {
   "cell_type": "code",
   "execution_count": null,
   "metadata": {},
   "outputs": [],
   "source": [
    "%%time\n",
    "validate(start_date=\"2021-01-01\",\n",
    "         end_date=\"2021-01-31\",\n",
    "         ip_file=\"../../../validation/data/future_ip.csv\",\n",
    "         output_file=\"predictions/val_1_month_future.csv\")"
   ]
  },
  {
   "cell_type": "markdown",
   "metadata": {},
   "source": [
    "## 180 days, from a future date, all countries and regions\n",
    "- Prediction start date is 1 week from now. (i.e. assuming submission date is 1 week from now)  \n",
    "- Prediction end date is 6 months after start date.  \n",
    "- Prediction is requested for all available countries and regions.  \n",
    "- Intervention plan scenario: freeze last known intervention plans for each country and region.  \n",
    "\n",
    "As the number of cases is not known yet between today and start date, but the model relies on them, the model has to predict them in order to use them.  \n",
    "This test is the most demanding test. It should take less than 1 hour to generate the prediction file."
   ]
  },
  {
   "cell_type": "markdown",
   "metadata": {},
   "source": [
    "### Generate the scenario"
   ]
  },
  {
   "cell_type": "code",
   "execution_count": null,
   "metadata": {},
   "outputs": [],
   "source": [
    "from datetime import datetime, timedelta\n",
    "\n",
    "start_date = datetime.now() + timedelta(days=7)\n",
    "start_date_str = start_date.strftime('%Y-%m-%d')\n",
    "end_date = start_date + timedelta(days=180)\n",
    "end_date_str = end_date.strftime('%Y-%m-%d')\n",
    "print(f\"Start date: {start_date_str}\")\n",
    "print(f\"End date: {end_date_str}\")"
   ]
  },
  {
   "cell_type": "code",
   "execution_count": null,
   "metadata": {},
   "outputs": [],
   "source": [
    "from covid_xprize.validation.scenario_generator import get_raw_data, generate_scenario, NPI_COLUMNS\n",
    "DATA_FILE = 'data/OxCGRT_latest.csv'\n",
    "latest_df = get_raw_data(DATA_FILE, latest=True)\n",
    "scenario_df = generate_scenario(start_date_str, end_date_str, latest_df, countries=None, scenario=\"Freeze\")\n",
    "scenario_file = \"predictions/180_days_future_scenario.csv\"\n",
    "scenario_df.to_csv(scenario_file, index=False)\n",
    "print(f\"Saved scenario to {scenario_file}\")"
   ]
  },
  {
   "cell_type": "markdown",
   "metadata": {},
   "source": [
    "### Check it"
   ]
  },
  {
   "cell_type": "code",
   "execution_count": null,
   "metadata": {},
   "outputs": [],
   "source": [
    "%%time\n",
    "validate(start_date=start_date_str,\n",
    "         end_date=end_date_str,\n",
    "         ip_file=scenario_file,\n",
    "         output_file=\"predictions/val_6_month_future.csv\")"
   ]
  },
  {
   "cell_type": "code",
   "execution_count": null,
   "metadata": {},
   "outputs": [],
   "source": []
  }
 ],
 "metadata": {
  "kernelspec": {
   "display_name": "xprize",
   "language": "python",
   "name": "xprize"
  },
  "language_info": {
   "codemirror_mode": {
    "name": "ipython",
    "version": 3
   },
   "file_extension": ".py",
   "mimetype": "text/x-python",
   "name": "python",
   "nbconvert_exporter": "python",
   "pygments_lexer": "ipython3",
   "version": "3.7.3"
  },
  "pycharm": {
   "stem_cell": {
    "cell_type": "raw",
    "metadata": {
     "collapsed": false
    },
    "source": [
     "# Copyright 2020 (c) Cognizant Digital Business, Evolutionary AI. All rights reserved. Issued under the Apache 2.0 License."
    ]
   }
  }
 },
 "nbformat": 4,
 "nbformat_minor": 4
}
