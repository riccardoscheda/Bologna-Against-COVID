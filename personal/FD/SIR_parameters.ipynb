{
 "cells": [
  {
   "cell_type": "raw",
   "metadata": {},
   "source": [
    "# Copyright 2020 (c) Cognizant Digital Business, Evolutionary AI. All rights reserved. Issued under the Apache 2.0 License."
   ]
  },
  {
   "cell_type": "markdown",
   "metadata": {},
   "source": [
    "# Example Predictor: SIR Rollout Predictor\n",
    "\n",
    "This example contains basic functionality for training and evaluating a linear predictor that rolls out predictions day-by-day.\n",
    "\n",
    "First, a training data set is created from historical case and npi data.\n",
    "\n",
    "Second, a linear model is trained to predict future cases from prior case data along with prior and future npi data.\n",
    "The model is an off-the-shelf sklearn Lasso model, that uses a positive weight constraint to enforce the assumption that increased npis has a negative correlation with future cases.\n",
    "\n",
    "Third, a sample evaluation set is created, and the predictor is applied to this evaluation set to produce prediction results in the correct format."
   ]
  },
  {
   "cell_type": "markdown",
   "metadata": {},
   "source": [
    "## Training"
   ]
  },
  {
   "cell_type": "code",
   "execution_count": 1,
   "metadata": {},
   "outputs": [],
   "source": [
    "import pickle\n",
    "import numpy as np\n",
    "import pandas as pd\n",
    "from sklearn.linear_model import Lasso\n",
    "from sklearn.model_selection import train_test_split\n",
    "import matplotlib.pyplot as plt\n",
    "import random\n",
    "from tqdm import tqdm\n",
    "import sys, os\n",
    "#from os.path import pardir, sep \n",
    "sys.path.insert(1,'/'+os.path.join(*os.getcwd().split('/')[:-2]))\n",
    "from utils.custom_models import SIR_parfinder\n",
    "from pipeline.utils import *"
   ]
  },
  {
   "cell_type": "markdown",
   "metadata": {},
   "source": [
    "### Copy the data locally"
   ]
  },
  {
   "cell_type": "code",
   "execution_count": 2,
   "metadata": {},
   "outputs": [],
   "source": [
    "# Main source for the training data\n",
    "DATA_URL = 'https://raw.githubusercontent.com/OxCGRT/covid-policy-tracker/master/data/OxCGRT_latest.csv'\n",
    "# Local file\n",
    "DATA_FILE = 'data/OxCGRT_latest.csv'"
   ]
  },
  {
   "cell_type": "code",
   "execution_count": 3,
   "metadata": {},
   "outputs": [],
   "source": [
    "import os\n",
    "import urllib.request\n",
    "if not os.path.exists('data'):\n",
    "    os.mkdir('data')\n",
    "#urllib.request.urlretrieve(DATA_URL, DATA_FILE)"
   ]
  },
  {
   "cell_type": "code",
   "execution_count": 4,
   "metadata": {},
   "outputs": [],
   "source": [
    "# Load historical data from local file\n",
    "df = pd.read_csv(DATA_FILE, \n",
    "                 parse_dates=['Date'],\n",
    "                 encoding=\"ISO-8859-1\",\n",
    "                 dtype={\"RegionName\": str,\n",
    "                        \"RegionCode\": str},\n",
    "                 error_bad_lines=False)"
   ]
  },
  {
   "cell_type": "code",
   "execution_count": 5,
   "metadata": {},
   "outputs": [
    {
     "data": {
      "text/plain": [
       "Index(['CountryName', 'CountryCode', 'RegionName', 'RegionCode',\n",
       "       'Jurisdiction', 'Date', 'C1_School closing', 'C1_Flag',\n",
       "       'C2_Workplace closing', 'C2_Flag', 'C3_Cancel public events', 'C3_Flag',\n",
       "       'C4_Restrictions on gatherings', 'C4_Flag', 'C5_Close public transport',\n",
       "       'C5_Flag', 'C6_Stay at home requirements', 'C6_Flag',\n",
       "       'C7_Restrictions on internal movement', 'C7_Flag',\n",
       "       'C8_International travel controls', 'E1_Income support', 'E1_Flag',\n",
       "       'E2_Debt/contract relief', 'E3_Fiscal measures',\n",
       "       'E4_International support', 'H1_Public information campaigns',\n",
       "       'H1_Flag', 'H2_Testing policy', 'H3_Contact tracing',\n",
       "       'H4_Emergency investment in healthcare', 'H5_Investment in vaccines',\n",
       "       'H6_Facial Coverings', 'H6_Flag', 'H7_Vaccination policy', 'H7_Flag',\n",
       "       'M1_Wildcard', 'ConfirmedCases', 'ConfirmedDeaths', 'StringencyIndex',\n",
       "       'StringencyIndexForDisplay', 'StringencyLegacyIndex',\n",
       "       'StringencyLegacyIndexForDisplay', 'GovernmentResponseIndex',\n",
       "       'GovernmentResponseIndexForDisplay', 'ContainmentHealthIndex',\n",
       "       'ContainmentHealthIndexForDisplay', 'EconomicSupportIndex',\n",
       "       'EconomicSupportIndexForDisplay'],\n",
       "      dtype='object')"
      ]
     },
     "execution_count": 5,
     "metadata": {},
     "output_type": "execute_result"
    }
   ],
   "source": [
    "df.columns"
   ]
  },
  {
   "cell_type": "code",
   "execution_count": 6,
   "metadata": {},
   "outputs": [],
   "source": [
    "# For testing, restrict training data to that before a hypothetical predictor submission date\n",
    "HYPOTHETICAL_SUBMISSION_DATE = np.datetime64(\"2020-07-31\")\n",
    "df = df[df.Date <= HYPOTHETICAL_SUBMISSION_DATE]"
   ]
  },
  {
   "cell_type": "code",
   "execution_count": 7,
   "metadata": {},
   "outputs": [],
   "source": [
    "df=create_dataset(df,drop=True)"
   ]
  },
  {
   "cell_type": "code",
   "execution_count": 8,
   "metadata": {},
   "outputs": [],
   "source": [
    "# Keep only columns of interest\n",
    "id_cols = ['CountryName',''\n",
    "           'RegionName',\n",
    "           'GeoID',\n",
    "           'Date']\n",
    "# Columns we care just about the last value (usually it's always the same value for most of them)\n",
    "adj_cols_fixed=[ 'PastCases','Population',\n",
    "       'Population Density (# per km2)',\n",
    "       'Urban population (% of total population)',\n",
    "       'Population ages 65 and above (% of total population)',\n",
    "       'GDP per capita (current US$)', 'Obesity Rate (%)', 'Cancer Rate (%)',\n",
    "       'Share of Deaths from Smoking (%)', 'Pneumonia Death Rate (per 100K)',\n",
    "       'Share of Deaths from Air Pollution (%)',\n",
    "       'CO2 emissions (metric tons per capita)',\n",
    "       'Air transport (# carrier departures worldwide)']\n",
    "\n",
    "# Columns we would like to include for the last nb_lookback days\n",
    "adj_cols_time=['TemperatureC']\n",
    "\n",
    "\n",
    "cases_col = ['MA']\n",
    "npi_cols = ['C1_School closing',\n",
    "            'C2_Workplace closing',\n",
    "            'C3_Cancel public events',\n",
    "            'C4_Restrictions on gatherings',\n",
    "            'C5_Close public transport',\n",
    "            'C6_Stay at home requirements',\n",
    "            'C7_Restrictions on internal movement',\n",
    "            'C8_International travel controls',\n",
    "            'H1_Public information campaigns',\n",
    "            'H2_Testing policy',\n",
    "            'H3_Contact tracing',\n",
    "            'H6_Facial Coverings']\n"
   ]
  },
  {
   "cell_type": "code",
   "execution_count": 9,
   "metadata": {},
   "outputs": [],
   "source": [
    "# Fill also missing CONFIRMED case values by interpolation and setting NaNs to 0\n",
    "df.update(df.groupby('GeoID').ConfirmedCases.apply(\n",
    "    lambda group: group.interpolate()).fillna(0))"
   ]
  },
  {
   "cell_type": "code",
   "execution_count": 10,
   "metadata": {},
   "outputs": [],
   "source": [
    "df['PastCases']=df.ConfirmedCases.values"
   ]
  },
  {
   "cell_type": "code",
   "execution_count": 11,
   "metadata": {},
   "outputs": [
    {
     "data": {
      "text/plain": [
       "Index(['CountryName', 'CountryCode', 'Population',\n",
       "       'Population Density (# per km2)',\n",
       "       'Urban population (% of total population)',\n",
       "       'Population ages 65 and above (% of total population)',\n",
       "       'GDP per capita (current US$)', 'Obesity Rate (%)', 'Cancer Rate (%)',\n",
       "       'Share of Deaths from Smoking (%)', 'Pneumonia Death Rate (per 100K)',\n",
       "       'Share of Deaths from Air Pollution (%)',\n",
       "       'CO2 emissions (metric tons per capita)',\n",
       "       'Air transport (# carrier departures worldwide)', 'RegionName',\n",
       "       'RegionCode', 'Jurisdiction', 'Date', 'C1_School closing', 'C1_Flag',\n",
       "       'C2_Workplace closing', 'C2_Flag', 'C3_Cancel public events', 'C3_Flag',\n",
       "       'C4_Restrictions on gatherings', 'C4_Flag', 'C5_Close public transport',\n",
       "       'C5_Flag', 'C6_Stay at home requirements', 'C6_Flag',\n",
       "       'C7_Restrictions on internal movement', 'C7_Flag',\n",
       "       'C8_International travel controls', 'E1_Income support', 'E1_Flag',\n",
       "       'E2_Debt/contract relief', 'E3_Fiscal measures',\n",
       "       'E4_International support', 'H1_Public information campaigns',\n",
       "       'H1_Flag', 'H2_Testing policy', 'H3_Contact tracing',\n",
       "       'H4_Emergency investment in healthcare', 'H5_Investment in vaccines',\n",
       "       'H6_Facial Coverings', 'H6_Flag', 'H7_Vaccination policy', 'H7_Flag',\n",
       "       'M1_Wildcard', 'ConfirmedCases', 'ConfirmedDeaths', 'StringencyIndex',\n",
       "       'StringencyIndexForDisplay', 'StringencyLegacyIndex',\n",
       "       'StringencyLegacyIndexForDisplay', 'GovernmentResponseIndex',\n",
       "       'GovernmentResponseIndexForDisplay', 'ContainmentHealthIndex',\n",
       "       'ContainmentHealthIndexForDisplay', 'EconomicSupportIndex',\n",
       "       'EconomicSupportIndexForDisplay', 'GeoID', 'NewCases', 'MA',\n",
       "       'TemperatureC', 'HDI', 'PastCases'],\n",
       "      dtype='object')"
      ]
     },
     "execution_count": 11,
     "metadata": {},
     "output_type": "execute_result"
    }
   ],
   "source": [
    "df.columns"
   ]
  },
  {
   "cell_type": "code",
   "execution_count": 12,
   "metadata": {},
   "outputs": [
    {
     "data": {
      "text/plain": [
       "H7_Flag                                  0\n",
       "M1_Wildcard                              0\n",
       "ConfirmedCases                       42600\n",
       "ConfirmedDeaths                      36949\n",
       "StringencyIndex                      42386\n",
       "StringencyIndexForDisplay            42386\n",
       "StringencyLegacyIndex                42386\n",
       "StringencyLegacyIndexForDisplay      42386\n",
       "GovernmentResponseIndex              42380\n",
       "GovernmentResponseIndexForDisplay    42380\n",
       "ContainmentHealthIndex               42385\n",
       "ContainmentHealthIndexForDisplay     42385\n",
       "EconomicSupportIndex                 36844\n",
       "EconomicSupportIndexForDisplay       36844\n",
       "GeoID                                42600\n",
       "NewCases                             42600\n",
       "MA                                   42600\n",
       "TemperatureC                         42600\n",
       "HDI                                  38108\n",
       "PastCases                            42600\n",
       "dtype: int64"
      ]
     },
     "execution_count": 12,
     "metadata": {},
     "output_type": "execute_result"
    }
   ],
   "source": [
    "df.count().tail(20)"
   ]
  },
  {
   "cell_type": "code",
   "execution_count": 13,
   "metadata": {},
   "outputs": [],
   "source": [
    "# Keep only columns of interest\n",
    "df = df[id_cols+ cases_col  +adj_cols_fixed+ adj_cols_time+ npi_cols]"
   ]
  },
  {
   "cell_type": "code",
   "execution_count": 14,
   "metadata": {},
   "outputs": [
    {
     "data": {
      "text/plain": [
       "CountryName                                             42600\n",
       "RegionName                                              16827\n",
       "GeoID                                                   42600\n",
       "Date                                                    42600\n",
       "MA                                                      42600\n",
       "PastCases                                               42600\n",
       "Population                                              42600\n",
       "Population Density (# per km2)                          42600\n",
       "Urban population (% of total population)                42600\n",
       "Population ages 65 and above (% of total population)    42600\n",
       "GDP per capita (current US$)                            42600\n",
       "Obesity Rate (%)                                        42600\n",
       "Cancer Rate (%)                                         42600\n",
       "Share of Deaths from Smoking (%)                        42600\n",
       "Pneumonia Death Rate (per 100K)                         42600\n",
       "Share of Deaths from Air Pollution (%)                  42600\n",
       "CO2 emissions (metric tons per capita)                  42600\n",
       "Air transport (# carrier departures worldwide)          42600\n",
       "TemperatureC                                            42600\n",
       "C1_School closing                                       42600\n",
       "C2_Workplace closing                                    42600\n",
       "C3_Cancel public events                                 42600\n",
       "C4_Restrictions on gatherings                           42600\n",
       "C5_Close public transport                               42600\n",
       "C6_Stay at home requirements                            42600\n",
       "C7_Restrictions on internal movement                    42600\n",
       "C8_International travel controls                        42600\n",
       "H1_Public information campaigns                         42600\n",
       "H2_Testing policy                                       42600\n",
       "H3_Contact tracing                                      42600\n",
       "H6_Facial Coverings                                     42600\n",
       "dtype: int64"
      ]
     },
     "execution_count": 14,
     "metadata": {},
     "output_type": "execute_result"
    }
   ],
   "source": [
    "df.count()"
   ]
  },
  {
   "cell_type": "code",
   "execution_count": 15,
   "metadata": {},
   "outputs": [],
   "source": [
    "#df=df[df['CountryName'].isin(['Afghanistan','Italy','Germany','Spain','France'])].sort_values(\n",
    "#    ['GeoID','Date'])"
   ]
  },
  {
   "cell_type": "code",
   "execution_count": 16,
   "metadata": {},
   "outputs": [],
   "source": [
    "df.loc[df.MA<0,'MA']=0"
   ]
  },
  {
   "cell_type": "code",
   "execution_count": 17,
   "metadata": {},
   "outputs": [
    {
     "name": "stderr",
     "output_type": "stream",
     "text": [
      "  0%|          | 0/200 [00:00<?, ?it/s]"
     ]
    },
    {
     "name": "stdout",
     "output_type": "stream",
     "text": [
      "Adding lookback days to the dataframe...\n"
     ]
    },
    {
     "name": "stderr",
     "output_type": "stream",
     "text": [
      "100%|██████████| 200/200 [10:12<00:00,  3.06s/it]\n"
     ]
    }
   ],
   "source": [
    "Sparf=SIR_parfinder(df,moving_average=True,nprocs=26)"
   ]
  },
  {
   "cell_type": "code",
   "execution_count": 18,
   "metadata": {},
   "outputs": [
    {
     "name": "stderr",
     "output_type": "stream",
     "text": [
      "100%|██████████| 80/80 [04:15<00:00,  3.19s/it]\n"
     ]
    },
    {
     "data": {
      "text/plain": [
       "<utils.custom_models.SIR_parfinder at 0x7fbac7d85438>"
      ]
     },
     "execution_count": 18,
     "metadata": {},
     "output_type": "execute_result"
    }
   ],
   "source": [
    "Sparf.fit()"
   ]
  },
  {
   "cell_type": "code",
   "execution_count": 23,
   "metadata": {},
   "outputs": [
    {
     "name": "stdout",
     "output_type": "stream",
     "text": [
      "(42600, 31)\n",
      "(42600, 33)\n",
      "(25505, 33)\n"
     ]
    }
   ],
   "source": [
    "df_pars=df.merge(Sparf.df_pars,how='left',on=['GeoID','Date'])\n",
    "print(df.shape)\n",
    "print(df_pars.shape)\n",
    "df_pars.dropna(subset=['beta','gamma'],inplace=True)\n",
    "print(df_pars.shape)"
   ]
  },
  {
   "cell_type": "code",
   "execution_count": 20,
   "metadata": {},
   "outputs": [
    {
     "data": {
      "text/plain": [
       "Text(0, 0.5, 'New cases')"
      ]
     },
     "execution_count": 20,
     "metadata": {},
     "output_type": "execute_result"
    },
    {
     "data": {
      "image/png": "[encoded data removed]",
      "text/plain": [
       "<Figure size 900x600 with 2 Axes>"
      ]
     },
     "metadata": {
      "needs_background": "light"
     },
     "output_type": "display_data"
    }
   ],
   "source": [
    "df_plot=df_pars[df_pars.CountryName=='Italy']\n",
    "\n",
    "f,axs=plt.subplots(2,1,sharex=True,dpi=150)\n",
    "axs[0].plot(df_plot.Date,df_plot.beta,label='beta')\n",
    "axs[0].plot(df_plot.Date,df_plot.gamma,label='gamma')\n",
    "axs[0].legend()\n",
    "axs[1].plot(df_plot.Date,df_plot.MA)\n",
    "axs[0].set_ylabel('SIR parameters')\n",
    "axs[1].set_ylabel('New cases')"
   ]
  },
  {
   "cell_type": "code",
   "execution_count": 21,
   "metadata": {},
   "outputs": [
    {
     "data": {
      "text/html": [
       "<div>\n",
       "<style scoped>\n",
       "    .dataframe tbody tr th:only-of-type {\n",
       "        vertical-align: middle;\n",
       "    }\n",
       "\n",
       "    .dataframe tbody tr th {\n",
       "        vertical-align: top;\n",
       "    }\n",
       "\n",
       "    .dataframe thead th {\n",
       "        text-align: right;\n",
       "    }\n",
       "</style>\n",
       "<table border=\"1\" class=\"dataframe\">\n",
       "  <thead>\n",
       "    <tr style=\"text-align: right;\">\n",
       "      <th></th>\n",
       "      <th>Date</th>\n",
       "      <th>MA</th>\n",
       "      <th>beta</th>\n",
       "      <th>gamma</th>\n",
       "    </tr>\n",
       "  </thead>\n",
       "  <tbody>\n",
       "    <tr>\n",
       "      <th>17088</th>\n",
       "      <td>2020-02-18</td>\n",
       "      <td>0.000000</td>\n",
       "      <td>0.324947</td>\n",
       "      <td>6.942528e-18</td>\n",
       "    </tr>\n",
       "    <tr>\n",
       "      <th>17089</th>\n",
       "      <td>2020-02-19</td>\n",
       "      <td>0.000000</td>\n",
       "      <td>0.356351</td>\n",
       "      <td>2.040085e-16</td>\n",
       "    </tr>\n",
       "    <tr>\n",
       "      <th>17090</th>\n",
       "      <td>2020-02-20</td>\n",
       "      <td>0.000000</td>\n",
       "      <td>0.387710</td>\n",
       "      <td>5.653070e-17</td>\n",
       "    </tr>\n",
       "    <tr>\n",
       "      <th>17091</th>\n",
       "      <td>2020-02-21</td>\n",
       "      <td>2.428571</td>\n",
       "      <td>0.860460</td>\n",
       "      <td>4.899672e-01</td>\n",
       "    </tr>\n",
       "    <tr>\n",
       "      <th>17098</th>\n",
       "      <td>2020-02-28</td>\n",
       "      <td>124.000000</td>\n",
       "      <td>1.388807</td>\n",
       "      <td>1.000000e+00</td>\n",
       "    </tr>\n",
       "    <tr>\n",
       "      <th>17099</th>\n",
       "      <td>2020-02-29</td>\n",
       "      <td>152.285714</td>\n",
       "      <td>1.294445</td>\n",
       "      <td>1.000000e+00</td>\n",
       "    </tr>\n",
       "    <tr>\n",
       "      <th>17100</th>\n",
       "      <td>2020-03-01</td>\n",
       "      <td>219.857143</td>\n",
       "      <td>1.226349</td>\n",
       "      <td>1.000000e+00</td>\n",
       "    </tr>\n",
       "    <tr>\n",
       "      <th>17101</th>\n",
       "      <td>2020-03-02</td>\n",
       "      <td>258.142857</td>\n",
       "      <td>0.993732</td>\n",
       "      <td>7.897044e-01</td>\n",
       "    </tr>\n",
       "    <tr>\n",
       "      <th>17102</th>\n",
       "      <td>2020-03-03</td>\n",
       "      <td>311.428571</td>\n",
       "      <td>0.819454</td>\n",
       "      <td>6.307314e-01</td>\n",
       "    </tr>\n",
       "    <tr>\n",
       "      <th>17103</th>\n",
       "      <td>2020-03-04</td>\n",
       "      <td>376.571429</td>\n",
       "      <td>0.658664</td>\n",
       "      <td>4.756073e-01</td>\n",
       "    </tr>\n",
       "  </tbody>\n",
       "</table>\n",
       "</div>"
      ],
      "text/plain": [
       "            Date          MA      beta         gamma\n",
       "17088 2020-02-18    0.000000  0.324947  6.942528e-18\n",
       "17089 2020-02-19    0.000000  0.356351  2.040085e-16\n",
       "17090 2020-02-20    0.000000  0.387710  5.653070e-17\n",
       "17091 2020-02-21    2.428571  0.860460  4.899672e-01\n",
       "17098 2020-02-28  124.000000  1.388807  1.000000e+00\n",
       "17099 2020-02-29  152.285714  1.294445  1.000000e+00\n",
       "17100 2020-03-01  219.857143  1.226349  1.000000e+00\n",
       "17101 2020-03-02  258.142857  0.993732  7.897044e-01\n",
       "17102 2020-03-03  311.428571  0.819454  6.307314e-01\n",
       "17103 2020-03-04  376.571429  0.658664  4.756073e-01"
      ]
     },
     "execution_count": 21,
     "metadata": {},
     "output_type": "execute_result"
    }
   ],
   "source": [
    "df_pars.loc[(df_pars.CountryName=='Italy')&(df_pars.Date>pd.to_datetime('2020-02-17')),\n",
    "           ['Date','MA','beta','gamma']].head(10)"
   ]
  },
  {
   "cell_type": "code",
   "execution_count": 35,
   "metadata": {},
   "outputs": [
    {
     "name": "stdout",
     "output_type": "stream",
     "text": [
      "Initial conditions: \n",
      " (212559417.0, (212558980.14285716, 347.7142857142857, 89.14285714285714, 89.14285714285714))\n",
      "\n",
      "\n",
      " Parameters:  beta     0.349667\n",
      "gamma    0.232977\n",
      "Name: 8611, dtype: object\n"
     ]
    },
    {
     "data": {
      "text/plain": [
       "<matplotlib.legend.Legend at 0x7fbab89e49b0>"
      ]
     },
     "execution_count": 35,
     "metadata": {},
     "output_type": "execute_result"
    },
    {
     "data": {
      "image/png": "[encoded data removed]",
      "text/plain": [
       "<Figure size 432x288 with 1 Axes>"
      ]
     },
     "metadata": {
      "needs_background": "light"
     },
     "output_type": "display_data"
    }
   ],
   "source": [
    "i=random.randint(0,df_pars.shape[0]-1)\n",
    "\n",
    "date_i=df_pars.iloc[i,:]['Date']\n",
    "gid_i=df_pars.iloc[i,:]['GeoID']\n",
    "\n",
    "pars=df_pars.iloc[i,:][['beta','gamma']]\n",
    "print('Initial conditions: \\n',Sparf.row_initial_conditions(Sparf.df.loc[(Sparf.df.GeoID==gid_i) & \n",
    "                                                (Sparf.df.Date==pd.to_datetime(date_i)),\n",
    "                                                :].iloc[0,:]))\n",
    "print('\\n\\n Parameters: ',pars)\n",
    "obs_cases_i=Sparf.df.loc[(Sparf.df.GeoID==gid_i) & \n",
    "                                                (Sparf.df.Date==pd.to_datetime(date_i)),\n",
    "                         Sparf.fit_ids].iloc[0,1:]\n",
    "y_pred_cases=Sparf.row_predict(gid_i,date_i,pars)\n",
    "plt.plot(Sparf.time_integ[1:],obs_cases_i,\n",
    "         label='observed')\n",
    "plt.plot(Sparf.time_integ[1:],y_pred_cases,label='pred')\n",
    "plt.legend()"
   ]
  },
  {
   "cell_type": "markdown",
   "metadata": {},
   "source": [
    "## Ground truth MAE"
   ]
  },
  {
   "cell_type": "markdown",
   "metadata": {},
   "source": [
    "This is roughly the MAE on the moving average we achieve if we predict perfectly the SIR paramters some way"
   ]
  },
  {
   "cell_type": "code",
   "execution_count": 21,
   "metadata": {},
   "outputs": [
    {
     "name": "stderr",
     "output_type": "stream",
     "text": [
      "100%|██████████| 29120/29120 [00:18<00:00, 1571.03it/s]\n"
     ]
    }
   ],
   "source": [
    "# The final value of row_predict is the actual prediction for the day\n",
    "y_pred=[Sreg.row_predict(X_train[i,:],Sreg.labels_[i])[-1] for i in tqdm(range(X_train.shape[0]),total=X_train.shape[0])]"
   ]
  },
  {
   "cell_type": "code",
   "execution_count": 22,
   "metadata": {},
   "outputs": [
    {
     "data": {
      "text/plain": [
       "49.053642523515755"
      ]
     },
     "execution_count": 22,
     "metadata": {},
     "output_type": "execute_result"
    }
   ],
   "source": [
    "mae(y_pred,y_train)"
   ]
  },
  {
   "cell_type": "code",
   "execution_count": null,
   "metadata": {},
   "outputs": [],
   "source": []
  }
 ],
 "metadata": {
  "kernelspec": {
   "display_name": "xprize",
   "language": "python",
   "name": "xprize"
  },
  "language_info": {
   "codemirror_mode": {
    "name": "ipython",
    "version": 3
   },
   "file_extension": ".py",
   "mimetype": "text/x-python",
   "name": "python",
   "nbconvert_exporter": "python",
   "pygments_lexer": "ipython3",
   "version": "3.7.3"
  },
  "pycharm": {
   "stem_cell": {
    "cell_type": "raw",
    "metadata": {
     "collapsed": false
    },
    "source": [
     "# Copyright 2020 (c) Cognizant Digital Business, Evolutionary AI. All rights reserved. Issued under the Apache 2.0 License."
    ]
   }
  }
 },
 "nbformat": 4,
 "nbformat_minor": 4
}
