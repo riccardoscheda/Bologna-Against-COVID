{
 "cells": [
  {
   "cell_type": "raw",
   "metadata": {},
   "source": [
    "# Copyright 2020 (c) Cognizant Digital Business, Evolutionary AI. All rights reserved. Issued under the Apache 2.0 License."
   ]
  },
  {
   "cell_type": "markdown",
   "metadata": {},
   "source": [
    "# Example Predictor: SIR Rollout Predictor\n",
    "\n",
    "This example contains basic functionality for training and evaluating a linear predictor that rolls out predictions day-by-day.\n",
    "\n",
    "First, a training data set is created from historical case and npi data.\n",
    "\n",
    "Second, a linear model is trained to predict future cases from prior case data along with prior and future npi data.\n",
    "The model is an off-the-shelf sklearn Lasso model, that uses a positive weight constraint to enforce the assumption that increased npis has a negative correlation with future cases.\n",
    "\n",
    "Third, a sample evaluation set is created, and the predictor is applied to this evaluation set to produce prediction results in the correct format."
   ]
  },
  {
   "cell_type": "markdown",
   "metadata": {},
   "source": [
    "## Training"
   ]
  },
  {
   "cell_type": "code",
   "execution_count": 1,
   "metadata": {},
   "outputs": [],
   "source": [
    "import pickle\n",
    "import numpy as np\n",
    "import pandas as pd\n",
    "from sklearn.linear_model import Lasso\n",
    "from sklearn.model_selection import train_test_split\n",
    "import matplotlib.pyplot as plt\n",
    "import random\n",
    "import sys, os\n",
    "#from os.path import pardir, sep \n",
    "sys.path.insert(1,'/'+os.path.join(*os.getcwd().split('/')[:-2])+'/utils')\n",
    "from custom_models import SIR_parfinder\n",
    "from df_preparation import *"
   ]
  },
  {
   "cell_type": "markdown",
   "metadata": {},
   "source": [
    "### Copy the data locally"
   ]
  },
  {
   "cell_type": "code",
   "execution_count": 2,
   "metadata": {},
   "outputs": [],
   "source": [
    "# Main source for the training data\n",
    "DATA_URL = 'https://raw.githubusercontent.com/OxCGRT/covid-policy-tracker/master/data/OxCGRT_latest.csv'\n",
    "# Local file\n",
    "DATA_FILE = 'data/OxCGRT_latest.csv'"
   ]
  },
  {
   "cell_type": "code",
   "execution_count": 3,
   "metadata": {},
   "outputs": [],
   "source": [
    "import os\n",
    "import urllib.request\n",
    "if not os.path.exists('data'):\n",
    "    os.mkdir('data')\n",
    "#urllib.request.urlretrieve(DATA_URL, DATA_FILE)"
   ]
  },
  {
   "cell_type": "code",
   "execution_count": 4,
   "metadata": {},
   "outputs": [],
   "source": [
    "# Load historical data from local file\n",
    "df = pd.read_csv(DATA_FILE, \n",
    "                 parse_dates=['Date'],\n",
    "                 encoding=\"ISO-8859-1\",\n",
    "                 dtype={\"RegionName\": str,\n",
    "                        \"RegionCode\": str},\n",
    "                 error_bad_lines=False)"
   ]
  },
  {
   "cell_type": "code",
   "execution_count": 5,
   "metadata": {},
   "outputs": [
    {
     "data": {
      "text/plain": [
       "Index(['CountryName', 'CountryCode', 'RegionName', 'RegionCode',\n",
       "       'Jurisdiction', 'Date', 'C1_School closing', 'C1_Flag',\n",
       "       'C2_Workplace closing', 'C2_Flag', 'C3_Cancel public events', 'C3_Flag',\n",
       "       'C4_Restrictions on gatherings', 'C4_Flag', 'C5_Close public transport',\n",
       "       'C5_Flag', 'C6_Stay at home requirements', 'C6_Flag',\n",
       "       'C7_Restrictions on internal movement', 'C7_Flag',\n",
       "       'C8_International travel controls', 'E1_Income support', 'E1_Flag',\n",
       "       'E2_Debt/contract relief', 'E3_Fiscal measures',\n",
       "       'E4_International support', 'H1_Public information campaigns',\n",
       "       'H1_Flag', 'H2_Testing policy', 'H3_Contact tracing',\n",
       "       'H4_Emergency investment in healthcare', 'H5_Investment in vaccines',\n",
       "       'H6_Facial Coverings', 'H6_Flag', 'H7_Vaccination policy', 'H7_Flag',\n",
       "       'M1_Wildcard', 'ConfirmedCases', 'ConfirmedDeaths', 'StringencyIndex',\n",
       "       'StringencyIndexForDisplay', 'StringencyLegacyIndex',\n",
       "       'StringencyLegacyIndexForDisplay', 'GovernmentResponseIndex',\n",
       "       'GovernmentResponseIndexForDisplay', 'ContainmentHealthIndex',\n",
       "       'ContainmentHealthIndexForDisplay', 'EconomicSupportIndex',\n",
       "       'EconomicSupportIndexForDisplay'],\n",
       "      dtype='object')"
      ]
     },
     "execution_count": 5,
     "metadata": {},
     "output_type": "execute_result"
    }
   ],
   "source": [
    "df.columns"
   ]
  },
  {
   "cell_type": "code",
   "execution_count": 6,
   "metadata": {},
   "outputs": [],
   "source": [
    "# For testing, restrict training data to that before a hypothetical predictor submission date\n",
    "HYPOTHETICAL_SUBMISSION_DATE = np.datetime64(\"2020-07-31\")\n",
    "df = df[df.Date <= HYPOTHETICAL_SUBMISSION_DATE]"
   ]
  },
  {
   "cell_type": "code",
   "execution_count": 7,
   "metadata": {},
   "outputs": [],
   "source": [
    "df=create_dataset(df)"
   ]
  },
  {
   "cell_type": "code",
   "execution_count": 8,
   "metadata": {},
   "outputs": [],
   "source": [
    "# Keep only columns of interest\n",
    "id_cols = ['CountryName',\n",
    "           'RegionName',\n",
    "           'GeoID',\n",
    "           'Date']\n",
    "# Columns we care just about the last value (usually it's always the same value for most of them)\n",
    "adj_cols_fixed=[ 'PastCases','Population',\n",
    "       'Population Density (# per km2)',\n",
    "       'Urban population (% of total population)',\n",
    "       'Population ages 65 and above (% of total population)',\n",
    "       'GDP per capita (current US$)', 'Obesity Rate (%)', 'Cancer Rate (%)',\n",
    "       'Share of Deaths from Smoking (%)', 'Pneumonia Death Rate (per 100K)',\n",
    "       'Share of Deaths from Air Pollution (%)',\n",
    "       'CO2 emissions (metric tons per capita)',\n",
    "       'Air transport (# carrier departures worldwide)']\n",
    "\n",
    "# Columns we would like to include for the last nb_lookback days\n",
    "adj_cols_time=['TemperatureC']\n",
    "\n",
    "\n",
    "cases_col = ['NewCases']\n",
    "npi_cols = ['C1_School closing',\n",
    "            'C2_Workplace closing',\n",
    "            'C3_Cancel public events',\n",
    "            'C4_Restrictions on gatherings',\n",
    "            'C5_Close public transport',\n",
    "            'C6_Stay at home requirements',\n",
    "            'C7_Restrictions on internal movement',\n",
    "            'C8_International travel controls',\n",
    "            'H1_Public information campaigns',\n",
    "            'H2_Testing policy',\n",
    "            'H3_Contact tracing',\n",
    "            'H6_Facial Coverings']\n"
   ]
  },
  {
   "cell_type": "code",
   "execution_count": 9,
   "metadata": {},
   "outputs": [],
   "source": [
    "# Fill also missing CONFIRMED case values by interpolation and setting NaNs to 0\n",
    "df.update(df.groupby('GeoID').ConfirmedCases.apply(\n",
    "    lambda group: group.interpolate()).fillna(0))"
   ]
  },
  {
   "cell_type": "code",
   "execution_count": 10,
   "metadata": {},
   "outputs": [],
   "source": [
    "df=add_population_data(df)\n",
    "df=add_temp(df)"
   ]
  },
  {
   "cell_type": "code",
   "execution_count": 11,
   "metadata": {},
   "outputs": [],
   "source": [
    "df['PastCases']=df.ConfirmedCases.values"
   ]
  },
  {
   "cell_type": "code",
   "execution_count": 12,
   "metadata": {},
   "outputs": [
    {
     "data": {
      "text/plain": [
       "Index(['CountryName', 'CountryCode', 'Population',\n",
       "       'Population Density (# per km2)',\n",
       "       'Urban population (% of total population)',\n",
       "       'Population ages 65 and above (% of total population)',\n",
       "       'GDP per capita (current US$)', 'Obesity Rate (%)', 'Cancer Rate (%)',\n",
       "       'Share of Deaths from Smoking (%)', 'Pneumonia Death Rate (per 100K)',\n",
       "       'Share of Deaths from Air Pollution (%)',\n",
       "       'CO2 emissions (metric tons per capita)',\n",
       "       'Air transport (# carrier departures worldwide)', 'RegionName',\n",
       "       'RegionCode', 'Jurisdiction', 'Date', 'C1_School closing', 'C1_Flag',\n",
       "       'C2_Workplace closing', 'C2_Flag', 'C3_Cancel public events', 'C3_Flag',\n",
       "       'C4_Restrictions on gatherings', 'C4_Flag', 'C5_Close public transport',\n",
       "       'C5_Flag', 'C6_Stay at home requirements', 'C6_Flag',\n",
       "       'C7_Restrictions on internal movement', 'C7_Flag',\n",
       "       'C8_International travel controls', 'E1_Income support', 'E1_Flag',\n",
       "       'E2_Debt/contract relief', 'E3_Fiscal measures',\n",
       "       'E4_International support', 'H1_Public information campaigns',\n",
       "       'H1_Flag', 'H2_Testing policy', 'H3_Contact tracing',\n",
       "       'H4_Emergency investment in healthcare', 'H5_Investment in vaccines',\n",
       "       'H6_Facial Coverings', 'H6_Flag', 'H7_Vaccination policy', 'H7_Flag',\n",
       "       'M1_Wildcard', 'ConfirmedCases', 'ConfirmedDeaths', 'StringencyIndex',\n",
       "       'StringencyIndexForDisplay', 'StringencyLegacyIndex',\n",
       "       'StringencyLegacyIndexForDisplay', 'GovernmentResponseIndex',\n",
       "       'GovernmentResponseIndexForDisplay', 'ContainmentHealthIndex',\n",
       "       'ContainmentHealthIndexForDisplay', 'EconomicSupportIndex',\n",
       "       'EconomicSupportIndexForDisplay', 'GeoID', 'NewCases', 'TemperatureC',\n",
       "       'PastCases'],\n",
       "      dtype='object')"
      ]
     },
     "execution_count": 12,
     "metadata": {},
     "output_type": "execute_result"
    }
   ],
   "source": [
    "df.columns"
   ]
  },
  {
   "cell_type": "code",
   "execution_count": 13,
   "metadata": {},
   "outputs": [
    {
     "data": {
      "text/plain": [
       "H6_Flag                              20165\n",
       "H7_Vaccination policy                31311\n",
       "H7_Flag                                  0\n",
       "M1_Wildcard                              0\n",
       "ConfirmedCases                       42600\n",
       "ConfirmedDeaths                      36949\n",
       "StringencyIndex                      42386\n",
       "StringencyIndexForDisplay            42386\n",
       "StringencyLegacyIndex                42386\n",
       "StringencyLegacyIndexForDisplay      42386\n",
       "GovernmentResponseIndex              42380\n",
       "GovernmentResponseIndexForDisplay    42380\n",
       "ContainmentHealthIndex               42385\n",
       "ContainmentHealthIndexForDisplay     42385\n",
       "EconomicSupportIndex                 36844\n",
       "EconomicSupportIndexForDisplay       36844\n",
       "GeoID                                42600\n",
       "NewCases                             42600\n",
       "TemperatureC                         42600\n",
       "PastCases                            42600\n",
       "dtype: int64"
      ]
     },
     "execution_count": 13,
     "metadata": {},
     "output_type": "execute_result"
    }
   ],
   "source": [
    "df.count().tail(20)"
   ]
  },
  {
   "cell_type": "code",
   "execution_count": 14,
   "metadata": {},
   "outputs": [],
   "source": [
    "# Keep only columns of interest\n",
    "df = df[id_cols+ cases_col  +adj_cols_fixed+ adj_cols_time+ npi_cols]"
   ]
  },
  {
   "cell_type": "code",
   "execution_count": 15,
   "metadata": {},
   "outputs": [
    {
     "data": {
      "text/plain": [
       "CountryName                                             42600\n",
       "RegionName                                              16827\n",
       "GeoID                                                   42600\n",
       "Date                                                    42600\n",
       "NewCases                                                42600\n",
       "PastCases                                               42600\n",
       "Population                                              42600\n",
       "Population Density (# per km2)                          42600\n",
       "Urban population (% of total population)                42600\n",
       "Population ages 65 and above (% of total population)    42600\n",
       "GDP per capita (current US$)                            42600\n",
       "Obesity Rate (%)                                        42600\n",
       "Cancer Rate (%)                                         42600\n",
       "Share of Deaths from Smoking (%)                        42600\n",
       "Pneumonia Death Rate (per 100K)                         42600\n",
       "Share of Deaths from Air Pollution (%)                  42600\n",
       "CO2 emissions (metric tons per capita)                  42600\n",
       "Air transport (# carrier departures worldwide)          42600\n",
       "TemperatureC                                            42600\n",
       "C1_School closing                                       42600\n",
       "C2_Workplace closing                                    42600\n",
       "C3_Cancel public events                                 42600\n",
       "C4_Restrictions on gatherings                           42600\n",
       "C5_Close public transport                               42600\n",
       "C6_Stay at home requirements                            42600\n",
       "C7_Restrictions on internal movement                    42600\n",
       "C8_International travel controls                        42600\n",
       "H1_Public information campaigns                         42600\n",
       "H2_Testing policy                                       42600\n",
       "H3_Contact tracing                                      42600\n",
       "H6_Facial Coverings                                     42600\n",
       "dtype: int64"
      ]
     },
     "execution_count": 15,
     "metadata": {},
     "output_type": "execute_result"
    }
   ],
   "source": [
    "df.count()"
   ]
  },
  {
   "cell_type": "code",
   "execution_count": 16,
   "metadata": {},
   "outputs": [],
   "source": [
    "df.loc[df.NewCases<0,'NewCases']=0"
   ]
  },
  {
   "cell_type": "code",
   "execution_count": 17,
   "metadata": {},
   "outputs": [
    {
     "name": "stdout",
     "output_type": "stream",
     "text": [
      "(36400, 433)\n",
      "(36400,)\n"
     ]
    }
   ],
   "source": [
    "lookback_days=30\n",
    "infection_days=7\n",
    "\n",
    "X_samples, y_samples= skl_format(df,cases_col,adj_cols_fixed,adj_cols_time,npi_cols,lookback_days)\n",
    "print(X_samples.shape)\n",
    "print(y_samples.shape)"
   ]
  },
  {
   "cell_type": "code",
   "execution_count": 44,
   "metadata": {},
   "outputs": [],
   "source": [
    "# Split data into train and test sets\n",
    "X_train, X_test, y_train, y_test = train_test_split(X_samples,\n",
    "                                                    y_samples,\n",
    "                                                    test_size=0.2,\n",
    "                                                    random_state=301)"
   ]
  },
  {
   "cell_type": "code",
   "execution_count": 45,
   "metadata": {},
   "outputs": [
    {
     "name": "stderr",
     "output_type": "stream",
     "text": [
      "100%|██████████| 260/260 [00:12<00:00, 20.21it/s]\n"
     ]
    },
    {
     "data": {
      "text/plain": [
       "SIR_parfinder(nprocs=26)"
      ]
     },
     "execution_count": 45,
     "metadata": {},
     "output_type": "execute_result"
    }
   ],
   "source": [
    "Sreg=SIR_parfinder(infection_days=infection_days,fit_days=15,nprocs=26)\n",
    "Sreg.fit(X_train)"
   ]
  },
  {
   "cell_type": "code",
   "execution_count": 38,
   "metadata": {},
   "outputs": [
    {
     "name": "stdout",
     "output_type": "stream",
     "text": [
      "(5421241.0, (5420841.0, 0.0, 400.0, 400.0))\n",
      "[nan nan]\n"
     ]
    }
   ],
   "source": [
    "i=random.randint(0,X_train.shape[0])\n",
    "\n",
    "X_i=X_train[i,:]\n",
    "pars=Sreg.labels_[i]\n",
    "print(Sreg.row_initial_conditions(X_i))\n",
    "print(pars)\n",
    "if not np.isnan(pars[0]):\n",
    "    y_pred_cases=Sreg.row_predict(X_i,pars)\n",
    "    plt.plot(Sreg.time_integ[1:],Sreg.row_observed_cases(X_i),label='observed')\n",
    "    plt.plot(Sreg.time_integ[1:],y_pred_cases,label='pred')\n",
    "    plt.legend()"
   ]
  },
  {
   "cell_type": "code",
   "execution_count": 49,
   "metadata": {},
   "outputs": [
    {
     "name": "stdout",
     "output_type": "stream",
     "text": [
      "(18383955.0, (18383840.0, 9.0, 106.0, 106.0))\n",
      "[0.31783887 0.27958483]\n"
     ]
    },
    {
     "data": {
      "image/png": "[encoded data removed]",
      "text/plain": [
       "<Figure size 432x288 with 1 Axes>"
      ]
     },
     "metadata": {
      "needs_background": "light"
     },
     "output_type": "display_data"
    }
   ],
   "source": [
    "i=random.randint(0,X_test.shape[0])\n",
    "\n",
    "X_i=X_test[i,:]\n",
    "pars=Sreg.predict(X_i.reshape(-1,1))\n",
    "print(Sreg.row_initial_conditions(X_i))\n",
    "print(pars)\n",
    "if not np.isnan(pars[0]):\n",
    "    y_pred_cases=Sreg.row_predict(X_i,pars)\n",
    "    plt.plot(Sreg.time_integ[1:],Sreg.row_observed_cases(X_i),label='observed')\n",
    "    plt.plot(Sreg.time_integ[1:],y_pred_cases,label='pred')\n",
    "    plt.legend()"
   ]
  },
  {
   "cell_type": "markdown",
   "metadata": {},
   "source": [
    "## Ground truth MAE"
   ]
  },
  {
   "cell_type": "code",
   "execution_count": 51,
   "metadata": {},
   "outputs": [
    {
     "data": {
      "text/plain": [
       "array([2.91594667, 3.02964765, 3.1478191 , 3.27063952, 3.39816531,\n",
       "       3.53061487, 3.66821387, 3.81118801, 3.95976293, 4.11416434,\n",
       "       4.27461789, 4.44134926, 4.61458414, 4.79454819, 4.98146709])"
      ]
     },
     "execution_count": 51,
     "metadata": {},
     "output_type": "execute_result"
    }
   ],
   "source": [
    "y_pred=[Sreg.row_predict(X_samples[i,:])]"
   ]
  },
  {
   "cell_type": "code",
   "execution_count": null,
   "metadata": {},
   "outputs": [],
   "source": []
  }
 ],
 "metadata": {
  "kernelspec": {
   "display_name": "xprize",
   "language": "python",
   "name": "xprize"
  },
  "language_info": {
   "codemirror_mode": {
    "name": "ipython",
    "version": 3
   },
   "file_extension": ".py",
   "mimetype": "text/x-python",
   "name": "python",
   "nbconvert_exporter": "python",
   "pygments_lexer": "ipython3",
   "version": "3.7.3"
  },
  "pycharm": {
   "stem_cell": {
    "cell_type": "raw",
    "metadata": {
     "collapsed": false
    },
    "source": [
     "# Copyright 2020 (c) Cognizant Digital Business, Evolutionary AI. All rights reserved. Issued under the Apache 2.0 License."
    ]
   }
  }
 },
 "nbformat": 4,
 "nbformat_minor": 4
}
