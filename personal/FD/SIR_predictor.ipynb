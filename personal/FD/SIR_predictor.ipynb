{
 "cells": [
  {
   "cell_type": "markdown",
   "metadata": {},
   "source": [
    "## Training"
   ]
  },
  {
   "cell_type": "code",
   "execution_count": 1,
   "metadata": {},
   "outputs": [],
   "source": [
    "import pickle\n",
    "import numpy as np\n",
    "import pandas as pd\n",
    "from sklearn.model_selection import train_test_split\n",
    "import matplotlib.pyplot as plt\n",
    "from scipy.integrate import solve_ivp\n",
    "import random\n",
    "from tqdm import tqdm\n",
    "import time\n",
    "import sys, os\n",
    "#from os.path import pardir, sep \n",
    "sys.path.insert(1,'/'+os.path.join(*os.getcwd().split('/')[:-2]))\n",
    "from pipeline.custom_models import SIR_fitter, SIR_predictor\n",
    "from pipeline.utils import *"
   ]
  },
  {
   "cell_type": "markdown",
   "metadata": {},
   "source": [
    "### Copy the data locally"
   ]
  },
  {
   "cell_type": "code",
   "execution_count": 2,
   "metadata": {},
   "outputs": [],
   "source": [
    "# Main source for the training data\n",
    "DATA_URL = 'https://raw.githubusercontent.com/OxCGRT/covid-policy-tracker/master/data/OxCGRT_latest.csv'\n",
    "# Local file\n",
    "DATA_FILE = 'data/OxCGRT_latest.csv'"
   ]
  },
  {
   "cell_type": "code",
   "execution_count": 3,
   "metadata": {},
   "outputs": [],
   "source": [
    "import os\n",
    "import urllib.request\n",
    "if not os.path.exists('data'):\n",
    "    os.mkdir('data')\n",
    "#urllib.request.urlretrieve(DATA_URL, DATA_FILE)"
   ]
  },
  {
   "cell_type": "code",
   "execution_count": 4,
   "metadata": {},
   "outputs": [],
   "source": [
    "# Load historical data from local file\n",
    "df = pd.read_csv(DATA_FILE, \n",
    "                 parse_dates=['Date'],\n",
    "                 encoding=\"ISO-8859-1\",\n",
    "                 dtype={\"RegionName\": str,\n",
    "                        \"RegionCode\": str},\n",
    "                 error_bad_lines=False)"
   ]
  },
  {
   "cell_type": "code",
   "execution_count": 5,
   "metadata": {},
   "outputs": [
    {
     "data": {
      "text/plain": [
       "Index(['CountryName', 'CountryCode', 'RegionName', 'RegionCode',\n",
       "       'Jurisdiction', 'Date', 'C1_School closing', 'C1_Flag',\n",
       "       'C2_Workplace closing', 'C2_Flag', 'C3_Cancel public events', 'C3_Flag',\n",
       "       'C4_Restrictions on gatherings', 'C4_Flag', 'C5_Close public transport',\n",
       "       'C5_Flag', 'C6_Stay at home requirements', 'C6_Flag',\n",
       "       'C7_Restrictions on internal movement', 'C7_Flag',\n",
       "       'C8_International travel controls', 'E1_Income support', 'E1_Flag',\n",
       "       'E2_Debt/contract relief', 'E3_Fiscal measures',\n",
       "       'E4_International support', 'H1_Public information campaigns',\n",
       "       'H1_Flag', 'H2_Testing policy', 'H3_Contact tracing',\n",
       "       'H4_Emergency investment in healthcare', 'H5_Investment in vaccines',\n",
       "       'H6_Facial Coverings', 'H6_Flag', 'H7_Vaccination policy', 'H7_Flag',\n",
       "       'M1_Wildcard', 'ConfirmedCases', 'ConfirmedDeaths', 'StringencyIndex',\n",
       "       'StringencyIndexForDisplay', 'StringencyLegacyIndex',\n",
       "       'StringencyLegacyIndexForDisplay', 'GovernmentResponseIndex',\n",
       "       'GovernmentResponseIndexForDisplay', 'ContainmentHealthIndex',\n",
       "       'ContainmentHealthIndexForDisplay', 'EconomicSupportIndex',\n",
       "       'EconomicSupportIndexForDisplay'],\n",
       "      dtype='object')"
      ]
     },
     "execution_count": 5,
     "metadata": {},
     "output_type": "execute_result"
    }
   ],
   "source": [
    "df.columns"
   ]
  },
  {
   "cell_type": "code",
   "execution_count": 6,
   "metadata": {},
   "outputs": [],
   "source": [
    "# For testing, restrict training data to that before a hypothetical predictor submission date\n",
    "HYPOTHETICAL_SUBMISSION_DATE = np.datetime64(\"2020-07-31\")\n",
    "df = df[df.Date <= HYPOTHETICAL_SUBMISSION_DATE]"
   ]
  },
  {
   "cell_type": "code",
   "execution_count": 7,
   "metadata": {},
   "outputs": [],
   "source": [
    "df=create_dataset(df,drop=False)"
   ]
  },
  {
   "cell_type": "code",
   "execution_count": 8,
   "metadata": {},
   "outputs": [],
   "source": [
    "# Keep only columns of interest\n",
    "id_cols = ['CountryName',''\n",
    "           'RegionName',\n",
    "           'GeoID',\n",
    "           'Date']\n",
    "# Columns we care just about the last value (usually it's always the same value for most of them)\n",
    "adj_cols_fixed=['ConfirmedCases', 'Population']#,\n",
    "       #'Population Density (# per km2)',\n",
    "       #'Urban population (% of total population)',\n",
    "       #'Population ages 65 and above (% of total population)',\n",
    "       #'GDP per capita (current US$)', 'Obesity Rate (%)', 'Cancer Rate (%)',\n",
    "       #'Share of Deaths from Smoking (%)', 'Pneumonia Death Rate (per 100K)',\n",
    "       #'Share of Deaths from Air Pollution (%)',\n",
    "       #'CO2 emissions (metric tons per capita)',\n",
    "       #'Air transport (# carrier departures worldwide)']\n",
    "\n",
    "# Columns we would like to include for the last nb_lookback days\n",
    "adj_cols_time=['TemperatureC']\n",
    "\n",
    "\n",
    "cases_col = ['MA']\n",
    "npi_cols = ['C1_School closing',\n",
    "            'C2_Workplace closing',\n",
    "            'C3_Cancel public events',\n",
    "            'C4_Restrictions on gatherings',\n",
    "            'C5_Close public transport',\n",
    "            'C6_Stay at home requirements',\n",
    "            'C7_Restrictions on internal movement',\n",
    "            'C8_International travel controls',\n",
    "            'H1_Public information campaigns',\n",
    "            'H2_Testing policy',\n",
    "            'H3_Contact tracing',\n",
    "            'H6_Facial Coverings']\n"
   ]
  },
  {
   "cell_type": "code",
   "execution_count": 9,
   "metadata": {},
   "outputs": [],
   "source": [
    "# Fill also missing CONFIRMED case values by interpolation and setting NaNs to 0\n",
    "df.update(df.groupby('GeoID').ConfirmedCases.apply(\n",
    "    lambda group: group.interpolate()).fillna(0))"
   ]
  },
  {
   "cell_type": "code",
   "execution_count": 10,
   "metadata": {},
   "outputs": [],
   "source": [
    "#df['PastCases']=df.ConfirmedCases.values"
   ]
  },
  {
   "cell_type": "code",
   "execution_count": 11,
   "metadata": {},
   "outputs": [
    {
     "data": {
      "text/plain": [
       "Index(['CountryName', 'CountryCode', 'Population',\n",
       "       'Population Density (# per km2)',\n",
       "       'Urban population (% of total population)',\n",
       "       'Population ages 65 and above (% of total population)',\n",
       "       'GDP per capita (current US$)', 'Obesity Rate (%)', 'Cancer Rate (%)',\n",
       "       'Share of Deaths from Smoking (%)', 'Pneumonia Death Rate (per 100K)',\n",
       "       'Share of Deaths from Air Pollution (%)',\n",
       "       'CO2 emissions (metric tons per capita)',\n",
       "       'Air transport (# carrier departures worldwide)', 'RegionName',\n",
       "       'RegionCode', 'Jurisdiction', 'Date', 'C1_School closing', 'C1_Flag',\n",
       "       'C2_Workplace closing', 'C2_Flag', 'C3_Cancel public events', 'C3_Flag',\n",
       "       'C4_Restrictions on gatherings', 'C4_Flag', 'C5_Close public transport',\n",
       "       'C5_Flag', 'C6_Stay at home requirements', 'C6_Flag',\n",
       "       'C7_Restrictions on internal movement', 'C7_Flag',\n",
       "       'C8_International travel controls', 'E1_Income support', 'E1_Flag',\n",
       "       'E2_Debt/contract relief', 'E3_Fiscal measures',\n",
       "       'E4_International support', 'H1_Public information campaigns',\n",
       "       'H1_Flag', 'H2_Testing policy', 'H3_Contact tracing',\n",
       "       'H4_Emergency investment in healthcare', 'H5_Investment in vaccines',\n",
       "       'H6_Facial Coverings', 'H6_Flag', 'H7_Vaccination policy', 'H7_Flag',\n",
       "       'M1_Wildcard', 'ConfirmedCases', 'ConfirmedDeaths', 'StringencyIndex',\n",
       "       'StringencyIndexForDisplay', 'StringencyLegacyIndex',\n",
       "       'StringencyLegacyIndexForDisplay', 'GovernmentResponseIndex',\n",
       "       'GovernmentResponseIndexForDisplay', 'ContainmentHealthIndex',\n",
       "       'ContainmentHealthIndexForDisplay', 'EconomicSupportIndex',\n",
       "       'EconomicSupportIndexForDisplay', 'GeoID', 'NewCases', 'MA',\n",
       "       'TemperatureC', 'HDI'],\n",
       "      dtype='object')"
      ]
     },
     "execution_count": 11,
     "metadata": {},
     "output_type": "execute_result"
    }
   ],
   "source": [
    "df.columns"
   ]
  },
  {
   "cell_type": "code",
   "execution_count": 12,
   "metadata": {},
   "outputs": [],
   "source": [
    "# Keep only columns of interest\n",
    "df = df[id_cols+ cases_col  +adj_cols_fixed+ adj_cols_time+ npi_cols]"
   ]
  },
  {
   "cell_type": "code",
   "execution_count": 13,
   "metadata": {},
   "outputs": [
    {
     "data": {
      "text/plain": [
       "CountryName                             59214\n",
       "RegionName                              20448\n",
       "GeoID                                   59214\n",
       "Date                                    59214\n",
       "MA                                      59214\n",
       "ConfirmedCases                          59214\n",
       "Population                              59214\n",
       "TemperatureC                            59214\n",
       "C1_School closing                       59214\n",
       "C2_Workplace closing                    59214\n",
       "C3_Cancel public events                 59214\n",
       "C4_Restrictions on gatherings           59214\n",
       "C5_Close public transport               59214\n",
       "C6_Stay at home requirements            59214\n",
       "C7_Restrictions on internal movement    59214\n",
       "C8_International travel controls        59214\n",
       "H1_Public information campaigns         59214\n",
       "H2_Testing policy                       59214\n",
       "H3_Contact tracing                      59214\n",
       "H6_Facial Coverings                     59214\n",
       "dtype: int64"
      ]
     },
     "execution_count": 13,
     "metadata": {},
     "output_type": "execute_result"
    }
   ],
   "source": [
    "df.count()"
   ]
  },
  {
   "cell_type": "code",
   "execution_count": 14,
   "metadata": {},
   "outputs": [],
   "source": [
    "#df=df[df['CountryName'].isin(['Afghanistan','Italy','Germany','Spain','France'])].sort_values(\n",
    "#    ['GeoID','Date'])"
   ]
  },
  {
   "cell_type": "code",
   "execution_count": 15,
   "metadata": {},
   "outputs": [],
   "source": [
    "df.loc[df.MA<0,'MA']=0."
   ]
  },
  {
   "cell_type": "code",
   "execution_count": 16,
   "metadata": {},
   "outputs": [
    {
     "name": "stdout",
     "output_type": "stream",
     "text": [
      "(50596, 423)\n",
      "(50596,)\n"
     ]
    }
   ],
   "source": [
    "lookback_days=30\n",
    "\n",
    "X_samples, y_samples= skl_format(df,True,lookback_days,adj_cols_fixed,adj_cols_time,\n",
    "                                True)\n",
    "print(X_samples.shape)\n",
    "print(y_samples.shape)"
   ]
  },
  {
   "cell_type": "code",
   "execution_count": 17,
   "metadata": {},
   "outputs": [],
   "source": [
    "# Split data into train and test sets\n",
    "X_train, X_test, y_train, y_test = train_test_split(X_samples,\n",
    "                                                    y_samples,\n",
    "                                                    test_size=0.2,\n",
    "                                                    random_state=301)"
   ]
  },
  {
   "cell_type": "code",
   "execution_count": 18,
   "metadata": {},
   "outputs": [
    {
     "name": "stdout",
     "output_type": "stream",
     "text": [
      "Fitting SIR parameters...\n"
     ]
    },
    {
     "name": "stderr",
     "output_type": "stream",
     "text": [
      "100%|██████████| 278/278 [04:09<00:00,  1.12it/s] \n"
     ]
    },
    {
     "name": "stdout",
     "output_type": "stream",
     "text": [
      "0.11999854447133476\n",
      "Elapsed time: 4.298430748780569 min\n"
     ]
    }
   ],
   "source": [
    "#md_str=\"MultiTaskLassoCV(alphas=[1e-5,1e-6,1e-7], normalize=True,  max_iter=500000, tol=1e-5,  cv=3, verbose=False, n_jobs=26,selection='random')\"\n",
    "#md_str=\"Lasso(alpha=0.00001,normalize=True,max_iter=100000,tol=1e-5)\"\n",
    "md_str=\"MultiOutputRegressor(xgb.XGBRegressor(n_estimators=100,max_depth=3,learning_rate=0.2,gamma=0.05,n_jobs=24))\"\n",
    "s_t=time.time()\n",
    "SP=SIR_predictor(df,moving_average=True,lookback_days=lookback_days,infection_days=7,\n",
    "                 semi_fit_days=7,ML_model=md_str,nprocs=26)\n",
    "SP.fit(X_train,y_train);\n",
    "print(SP.TMAE)\n",
    "e_t=time.time()-s_t\n",
    "print('Elapsed time: {} min'.format(e_t/60))"
   ]
  },
  {
   "cell_type": "code",
   "execution_count": 20,
   "metadata": {},
   "outputs": [
    {
     "name": "stderr",
     "output_type": "stream",
     "text": [
      "100%|██████████| 40476/40476 [02:39<00:00, 253.60it/s]\n"
     ]
    }
   ],
   "source": [
    "y_train_pred=SP.predict(X_train)"
   ]
  },
  {
   "cell_type": "code",
   "execution_count": 20,
   "metadata": {},
   "outputs": [
    {
     "data": {
      "text/plain": [
       "629.2653014616922"
      ]
     },
     "execution_count": 20,
     "metadata": {},
     "output_type": "execute_result"
    }
   ],
   "source": [
    "mae(y_train_pred,y_train)"
   ]
  },
  {
   "cell_type": "code",
   "execution_count": 21,
   "metadata": {},
   "outputs": [
    {
     "name": "stderr",
     "output_type": "stream",
     "text": [
      "100%|██████████| 182/182 [00:02<00:00, 73.39it/s]\n"
     ]
    },
    {
     "data": {
      "text/plain": [
       "575.1929281513083"
      ]
     },
     "execution_count": 21,
     "metadata": {},
     "output_type": "execute_result"
    }
   ],
   "source": [
    "mae(SP.predict(X_test),y_test)"
   ]
  },
  {
   "cell_type": "code",
   "execution_count": 20,
   "metadata": {},
   "outputs": [
    {
     "data": {
      "text/plain": [
       "0.39190918"
      ]
     },
     "execution_count": 20,
     "metadata": {},
     "output_type": "execute_result"
    }
   ],
   "source": [
    "SP.predict_pars(X_train[0,:].reshape(1,-1))[0][0]"
   ]
  },
  {
   "cell_type": "code",
   "execution_count": 21,
   "metadata": {},
   "outputs": [
    {
     "data": {
      "text/plain": [
       "array([[0.39190918, 0.3931055 ],\n",
       "       [0.38220775, 0.37335867],\n",
       "       [0.39190918, 0.3931055 ],\n",
       "       [0.38220775, 0.37335867],\n",
       "       [0.38220775, 0.37335867],\n",
       "       [0.38220775, 0.37335867],\n",
       "       [0.38220775, 0.37335867],\n",
       "       [0.38220775, 0.37335867],\n",
       "       [0.54053855, 0.48605675],\n",
       "       [0.38220775, 0.37335867]], dtype=float32)"
      ]
     },
     "execution_count": 21,
     "metadata": {},
     "output_type": "execute_result"
    }
   ],
   "source": [
    "SP.predict_pars(X_train)[0:10,:]"
   ]
  },
  {
   "cell_type": "code",
   "execution_count": 22,
   "metadata": {},
   "outputs": [
    {
     "data": {
      "text/plain": [
       "array([[3.18720822e-01, 1.91206775e-01],\n",
       "       [4.08281425e-01, 2.95418154e-01],\n",
       "       [3.73115825e-01, 2.67435072e-01],\n",
       "       [3.66626142e-01, 2.71909790e-01],\n",
       "       [3.66949594e-01, 2.86671507e-01],\n",
       "       [3.43472664e-01, 2.66091623e-01],\n",
       "       [2.73577617e-01, 1.86146613e-01],\n",
       "       [2.37116013e-01, 1.49166619e-01],\n",
       "       [1.54331898e-01, 1.77357171e-16],\n",
       "       [1.56682199e-01, 5.25923201e-18]])"
      ]
     },
     "execution_count": 22,
     "metadata": {},
     "output_type": "execute_result"
    }
   ],
   "source": [
    "SP.y_pars[:10]"
   ]
  },
  {
   "cell_type": "code",
   "execution_count": null,
   "metadata": {},
   "outputs": [],
   "source": [
    "mae(SP.predict_pars(X_train),SP.y_pars)"
   ]
  },
  {
   "cell_type": "markdown",
   "metadata": {},
   "source": [
    "### Lasso inspection"
   ]
  },
  {
   "cell_type": "code",
   "execution_count": 53,
   "metadata": {},
   "outputs": [
    {
     "name": "stdout",
     "output_type": "stream",
     "text": [
      "Impact on beta\n",
      "Day -30 H1_Public information campaigns 0.00010825851361328623\n",
      "Day -30 H3_Contact tracing 0.00025887159211366787\n",
      "Day -28 C5_Close public transport 0.00022322186706630326\n",
      "Day -21 H2_Testing policy -4.784802748295873e-05\n",
      "Day -19 H6_Facial Coverings -0.00014830049076964573\n",
      "Day -6 C1_School closing 0.00010126419198229243\n",
      "Day -3 H1_Public information campaigns 0.00015803079622776515\n",
      "Day -2 C3_Cancel public events 2.1380398279226194e-05\n",
      "Day -1 H3_Contact tracing -0.0008375684547906771\n",
      "Intercept 0.20365789477291188\n",
      "\n",
      "Impact on gamma\n",
      "Day -30 H1_Public information campaigns -2.145604656847398e-05\n",
      "Day -30 H3_Contact tracing 0.00018040254474102776\n",
      "Day -28 C5_Close public transport 0.0002746245692335019\n",
      "Day -21 H2_Testing policy -0.0006859268134565876\n",
      "Day -19 H6_Facial Coverings -0.0001372356620346198\n",
      "Day -6 C1_School closing 7.41888328021661e-05\n",
      "Day -3 H1_Public information campaigns 0.00016148191884050335\n",
      "Day -2 C3_Cancel public events 5.789837551585999e-05\n",
      "Day -1 H3_Contact tracing -0.0013956504690267046\n",
      "Intercept 0.19594326288795466\n"
     ]
    }
   ],
   "source": [
    "# Inspect the learned feature coefficients for the model\n",
    "# to see what features it's paying attention to.\n",
    "\n",
    "# Give names to the features\n",
    "x_col_names = []\n",
    "#for d in range(-lookback_days, 0):\n",
    "#    x_col_names.append('Day ' + str(d) + ' ' + cases_col[0])\n",
    "for col_name in adj_cols_fixed:\n",
    "        x_col_names.append(col_name)\n",
    "        \n",
    "for d in range(-lookback_days, 1):\n",
    "    for col_name in adj_cols_time:\n",
    "        x_col_names.append('Day ' + str(d) + ' ' + col_name)\n",
    "        \n",
    "for d in range(-lookback_days, 1):\n",
    "    for col_name in npi_cols:\n",
    "        x_col_names.append('Day ' + str(d) + ' ' + col_name)\n",
    "\n",
    "# View non-zero coefficients\n",
    "print('Impact on beta')\n",
    "for (col, coeff) in zip(x_col_names, list(SP.MLmodel.coef_[0])):\n",
    "    if coeff != 0.:\n",
    "        print(col, coeff)\n",
    "print('Intercept', SP.MLmodel.intercept_[0])\n",
    "\n",
    "print('\\nImpact on gamma')\n",
    "for (col, coeff) in zip(x_col_names, list(SP.MLmodel.coef_[1])):\n",
    "    if coeff != 0.:\n",
    "        print(col, coeff)\n",
    "print('Intercept', SP.MLmodel.intercept_[1])"
   ]
  },
  {
   "cell_type": "code",
   "execution_count": null,
   "metadata": {},
   "outputs": [],
   "source": []
  }
 ],
 "metadata": {
  "kernelspec": {
   "display_name": "xprize",
   "language": "python",
   "name": "xprize"
  },
  "language_info": {
   "codemirror_mode": {
    "name": "ipython",
    "version": 3
   },
   "file_extension": ".py",
   "mimetype": "text/x-python",
   "name": "python",
   "nbconvert_exporter": "python",
   "pygments_lexer": "ipython3",
   "version": "3.7.3"
  },
  "pycharm": {
   "stem_cell": {
    "cell_type": "raw",
    "metadata": {
     "collapsed": false
    },
    "source": [
     "# Copyright 2020 (c) Cognizant Digital Business, Evolutionary AI. All rights reserved. Issued under the Apache 2.0 License."
    ]
   }
  }
 },
 "nbformat": 4,
 "nbformat_minor": 4
}
