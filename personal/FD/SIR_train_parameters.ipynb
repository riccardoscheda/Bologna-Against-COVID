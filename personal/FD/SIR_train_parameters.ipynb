{
 "cells": [
  {
   "cell_type": "markdown",
   "metadata": {},
   "source": [
    "# Example Predictor: SIR Predictor through parameter estimation\n",
    "\n"
   ]
  },
  {
   "cell_type": "markdown",
   "metadata": {},
   "source": [
    "## Training"
   ]
  },
  {
   "cell_type": "code",
   "execution_count": 1,
   "metadata": {},
   "outputs": [],
   "source": [
    "import pickle\n",
    "import numpy as np\n",
    "import pandas as pd\n",
    "from sklearn.linear_model import Lasso\n",
    "from sklearn.model_selection import train_test_split\n",
    "import matplotlib.pyplot as plt\n",
    "import random\n",
    "from tqdm import tqdm\n",
    "import sys, os\n",
    "#from os.path import pardir, sep \n",
    "sys.path.insert(1,'/'+os.path.join(*os.getcwd().split('/')[:-2]))\n",
    "from utils.custom_models import SIR_parfinder\n",
    "from pipeline.utils import *"
   ]
  },
  {
   "cell_type": "markdown",
   "metadata": {},
   "source": [
    "### Copy the data locally"
   ]
  },
  {
   "cell_type": "code",
   "execution_count": 2,
   "metadata": {},
   "outputs": [],
   "source": [
    "# Main source for the training data\n",
    "DATA_URL = 'https://raw.githubusercontent.com/OxCGRT/covid-policy-tracker/master/data/OxCGRT_latest.csv'\n",
    "# Local file\n",
    "DATA_FILE = 'data/OxCGRT_latest.csv'"
   ]
  },
  {
   "cell_type": "code",
   "execution_count": 3,
   "metadata": {},
   "outputs": [],
   "source": [
    "import os\n",
    "import urllib.request\n",
    "if not os.path.exists('data'):\n",
    "    os.mkdir('data')\n",
    "#urllib.request.urlretrieve(DATA_URL, DATA_FILE)"
   ]
  },
  {
   "cell_type": "code",
   "execution_count": 13,
   "metadata": {},
   "outputs": [],
   "source": [
    "# Load historical data from local file\n",
    "df = pd.read_csv(DATA_FILE, \n",
    "                 parse_dates=['Date'],\n",
    "                 encoding=\"ISO-8859-1\",\n",
    "                 dtype={\"RegionName\": str,\n",
    "                        \"RegionCode\": str},\n",
    "                 error_bad_lines=False)"
   ]
  },
  {
   "cell_type": "code",
   "execution_count": 14,
   "metadata": {},
   "outputs": [],
   "source": [
    "# For testing, restrict training data to that before a hypothetical predictor submission date\n",
    "HYPOTHETICAL_SUBMISSION_DATE = np.datetime64(\"2020-07-31\")\n",
    "df = df[df.Date <= HYPOTHETICAL_SUBMISSION_DATE]"
   ]
  },
  {
   "cell_type": "code",
   "execution_count": 15,
   "metadata": {},
   "outputs": [
    {
     "name": "stdout",
     "output_type": "stream",
     "text": [
      "(59214, 66)\n"
     ]
    }
   ],
   "source": [
    "df=create_dataset(df)\n",
    "print(df.shape)"
   ]
  },
  {
   "cell_type": "code",
   "execution_count": 7,
   "metadata": {},
   "outputs": [],
   "source": [
    "# Keep only columns of interest\n",
    "id_cols = ['CountryName',\n",
    "           'RegionName',\n",
    "           'GeoID',\n",
    "           'Date']\n",
    "# Columns we care just about the last value (usually it's always the same value for most of them)\n",
    "adj_cols_fixed=[ 'ConfirmedCases','Population']#,\n",
    "       #'Population Density (# per km2)',\n",
    "       #'Urban population (% of total population)',\n",
    "       #'Population ages 65 and above (% of total population)',\n",
    "       #'GDP per capita (current US$)', 'Obesity Rate (%)', 'Cancer Rate (%)',\n",
    "       #'Share of Deaths from Smoking (%)', 'Pneumonia Death Rate (per 100K)',\n",
    "       #'Share of Deaths from Air Pollution (%)',\n",
    "       #'CO2 emissions (metric tons per capita)',\n",
    "       #'Air transport (# carrier departures worldwide)']\n",
    "\n",
    "# Columns we would like to include for the last nb_lookback days\n",
    "adj_cols_time=['TemperatureC']\n",
    "\n",
    "\n",
    "cases_col = ['MA']\n",
    "npi_cols = ['C1_School closing',\n",
    "            'C2_Workplace closing',\n",
    "            'C3_Cancel public events',\n",
    "            'C4_Restrictions on gatherings',\n",
    "            'C5_Close public transport',\n",
    "            'C6_Stay at home requirements',\n",
    "            'C7_Restrictions on internal movement',\n",
    "            'C8_International travel controls',\n",
    "            'H1_Public information campaigns',\n",
    "            'H2_Testing policy',\n",
    "            'H3_Contact tracing',\n",
    "            'H6_Facial Coverings']\n"
   ]
  },
  {
   "cell_type": "code",
   "execution_count": 8,
   "metadata": {},
   "outputs": [],
   "source": [
    "# Fill also missing CONFIRMED case values by interpolation and setting NaNs to 0\n",
    "df.update(df.groupby('GeoID').ConfirmedCases.apply(\n",
    "    lambda group: group.interpolate()).fillna(0))"
   ]
  },
  {
   "cell_type": "code",
   "execution_count": 9,
   "metadata": {},
   "outputs": [],
   "source": [
    "#df['PastCases']=df.ConfirmedCases.values"
   ]
  },
  {
   "cell_type": "code",
   "execution_count": 10,
   "metadata": {},
   "outputs": [],
   "source": [
    "# Keep only columns of interest\n",
    "df = df[id_cols+ cases_col  +adj_cols_fixed+ adj_cols_time+ npi_cols]"
   ]
  },
  {
   "cell_type": "code",
   "execution_count": 11,
   "metadata": {},
   "outputs": [
    {
     "data": {
      "text/plain": [
       "CountryName                             59214\n",
       "RegionName                              20448\n",
       "GeoID                                   59214\n",
       "Date                                    59214\n",
       "MA                                      59214\n",
       "ConfirmedCases                          59214\n",
       "Population                              59214\n",
       "TemperatureC                            59214\n",
       "C1_School closing                       59214\n",
       "C2_Workplace closing                    59214\n",
       "C3_Cancel public events                 59214\n",
       "C4_Restrictions on gatherings           59214\n",
       "C5_Close public transport               59214\n",
       "C6_Stay at home requirements            59214\n",
       "C7_Restrictions on internal movement    59214\n",
       "C8_International travel controls        59214\n",
       "H1_Public information campaigns         59214\n",
       "H2_Testing policy                       59214\n",
       "H3_Contact tracing                      59214\n",
       "H6_Facial Coverings                     59214\n",
       "dtype: int64"
      ]
     },
     "execution_count": 11,
     "metadata": {},
     "output_type": "execute_result"
    }
   ],
   "source": [
    "df.count()"
   ]
  },
  {
   "cell_type": "code",
   "execution_count": 12,
   "metadata": {},
   "outputs": [],
   "source": [
    "df.loc[df.MA<0,'MA']=0"
   ]
  },
  {
   "cell_type": "code",
   "execution_count": 13,
   "metadata": {},
   "outputs": [
    {
     "name": "stdout",
     "output_type": "stream",
     "text": [
      "(36400, 433)\n",
      "(36400,)\n"
     ]
    }
   ],
   "source": [
    "lookback_days=30\n",
    "infection_days=7\n",
    "\n",
    "X_samples, y_samples= skl_format(df,True,lookback_days,adj_cols_fixed,adj_cols_time)\n",
    "print(X_samples.shape)\n",
    "print(y_samples.shape)"
   ]
  },
  {
   "cell_type": "code",
   "execution_count": 14,
   "metadata": {},
   "outputs": [],
   "source": [
    "# Split data into train and test sets\n",
    "X_train, X_test, y_train, y_test = train_test_split(X_samples,\n",
    "                                                    y_samples,\n",
    "                                                    test_size=0.2,\n",
    "                                                    random_state=301)"
   ]
  },
  {
   "cell_type": "code",
   "execution_count": 15,
   "metadata": {},
   "outputs": [
    {
     "name": "stderr",
     "output_type": "stream",
     "text": [
      "100%|██████████| 260/260 [01:38<00:00,  2.65it/s]\n"
     ]
    },
    {
     "data": {
      "text/plain": [
       "SIR_parfinder(nprocs=26)"
      ]
     },
     "execution_count": 15,
     "metadata": {},
     "output_type": "execute_result"
    }
   ],
   "source": [
    "Sreg=SIR_parfinder(infection_days=infection_days,fit_days=15,nprocs=26)\n",
    "Sreg.fit(X_train)"
   ]
  },
  {
   "cell_type": "markdown",
   "metadata": {},
   "source": [
    "# ML to predict SIR parameter"
   ]
  },
  {
   "cell_type": "code",
   "execution_count": 54,
   "metadata": {},
   "outputs": [
    {
     "name": "stderr",
     "output_type": "stream",
     "text": [
      "100%|██████████| 260/260 [00:24<00:00, 10.45it/s]\n"
     ]
    },
    {
     "name": "stdout",
     "output_type": "stream",
     "text": [
      "(20087, 403)\n",
      "(20087, 2)\n",
      "(5028, 403)\n",
      "(5028, 2)\n"
     ]
    }
   ],
   "source": [
    "# Create new dataset without info on cases\n",
    "X_trainML=X_train[:,lookback_days:].copy()\n",
    "X_testML=X_test[:,lookback_days:].copy()\n",
    "y_trainML=Sreg.labels_\n",
    "y_testML=Sreg.predict(X_test)\n",
    "\n",
    "# Precchie label sono (np.nan, np,nan) se avevamo 0 casi iniziali,\n",
    "# poi dobbaimo fare in modo che il predittore dei casi sappia predire 0 nuovi casi, come fa SIR_parfinder.row_predict()\n",
    "idx_notzero_train=np.where(~np.isnan(y_trainML).all(axis=1))\n",
    "idx_notzero_test=np.where(~np.isnan(y_testML).all(axis=1))\n",
    "\n",
    "X_trainML=X_trainML[idx_notzero_train].copy()\n",
    "X_testML=X_testML[idx_notzero_test].copy()\n",
    "y_trainML=y_trainML[idx_notzero_train].copy()\n",
    "y_testML=y_testML[idx_notzero_test].copy()\n",
    "\n",
    "print(X_trainML.shape)\n",
    "print(y_trainML.shape)\n",
    "print(X_testML.shape)\n",
    "print(y_testML.shape)"
   ]
  },
  {
   "cell_type": "code",
   "execution_count": 75,
   "metadata": {},
   "outputs": [
    {
     "data": {
      "text/plain": [
       "Lasso(alpha=0.001, max_iter=100000, precompute=True, selection='random',\n",
       "      tol=1e-05)"
      ]
     },
     "execution_count": 75,
     "metadata": {},
     "output_type": "execute_result"
    }
   ],
   "source": [
    "model = Lasso(alpha=0.001,tol=0.00001,\n",
    "              precompute=True,\n",
    "              max_iter=100000,\n",
    "              #positive=True,\n",
    "              selection='random')\n",
    "# Fit model\n",
    "model.fit(X_trainML, y_trainML)"
   ]
  },
  {
   "cell_type": "code",
   "execution_count": 76,
   "metadata": {},
   "outputs": [
    {
     "name": "stdout",
     "output_type": "stream",
     "text": [
      "Train MAE: 0.0858523420442475\n",
      "Test MAE: 0.08216472301608407\n"
     ]
    }
   ],
   "source": [
    "# Evaluate model\n",
    "train_preds = model.predict(X_trainML)\n",
    "#train_preds = np.maximum(train_preds, 0) # Don't predict negative cases\n",
    "print('Train MAE:', mae(train_preds, y_trainML))\n",
    "\n",
    "test_preds = model.predict(X_testML)\n",
    "#test_preds = np.maximum(test_preds, 0) # Don't predict negative cases\n",
    "print('Test MAE:', mae(test_preds, y_testML))"
   ]
  },
  {
   "cell_type": "code",
   "execution_count": 77,
   "metadata": {},
   "outputs": [
    {
     "data": {
      "image/png": "[encoded data removed]",
      "text/plain": [
       "<Figure size 432x288 with 1 Axes>"
      ]
     },
     "metadata": {
      "needs_background": "light"
     },
     "output_type": "display_data"
    }
   ],
   "source": [
    "plt.hist(train_preds[:,0],20);"
   ]
  },
  {
   "cell_type": "code",
   "execution_count": 78,
   "metadata": {},
   "outputs": [
    {
     "name": "stderr",
     "output_type": "stream",
     "text": [
      "  0%|          | 0/20087 [14:07<?, ?it/s]"
     ]
    },
    {
     "name": "stdout",
     "output_type": "stream",
     "text": [
      "Impact on beta\n",
      "PastCases -7.339261467962712e-09\n",
      "Population -1.0397166727689886e-11\n",
      "Population Density (# per km2) -1.4869436976293994e-06\n",
      "Urban population (% of total population) 5.4087709252338384e-05\n",
      "Population ages 65 and above (% of total population) -0.0028910382708602295\n",
      "GDP per capita (current US$) -2.0404956463880473e-07\n",
      "Obesity Rate (%) -0.0006678280958635932\n",
      "Cancer Rate (%) -0.012375413150993206\n",
      "Pneumonia Death Rate (per 100K) -0.00027720252061368594\n",
      "Share of Deaths from Air Pollution (%) -0.0016986751819432016\n",
      "CO2 emissions (metric tons per capita) 5.502216845969757e-05\n",
      "Air transport (# carrier departures worldwide) 5.927478586800488e-09\n",
      "Day -3 TemperatureC -0.0021554875282259363\n",
      "Day 0 TemperatureC -0.009566332001039101\n",
      "Day -30 C1_School closing -0.0024028502775823263\n",
      "Day -30 C2_Workplace closing -0.0007980313006044103\n",
      "Day -30 C6_Stay at home requirements -0.00264380495170886\n",
      "Day -30 C8_International travel controls -0.005472787594798337\n",
      "Day -30 H1_Public information campaigns -0.006110784029182597\n",
      "Day -30 H6_Facial Coverings -0.002667575843546259\n",
      "Day -29 C2_Workplace closing -0.0007018528107386766\n",
      "Day -29 H3_Contact tracing -7.479728576079284e-07\n",
      "Day -28 C1_School closing -0.0029787146064533063\n",
      "Day -28 C7_Restrictions on internal movement 0.0013340688779097185\n",
      "Day -28 C8_International travel controls -0.0008225056394705739\n",
      "Day -28 H3_Contact tracing -0.0007440478038978443\n",
      "Day -28 H6_Facial Coverings -0.0030625376827550744\n",
      "Day -27 C1_School closing -0.001555599044635105\n",
      "Day -27 C2_Workplace closing -0.003198050117653046\n",
      "Day -27 C7_Restrictions on internal movement 0.0006733678991040346\n",
      "Day -26 C1_School closing -6.591882125763234e-05\n",
      "Day -26 C2_Workplace closing -0.00922944406058286\n",
      "Day -25 C1_School closing -0.004122631838077032\n",
      "Day -25 C2_Workplace closing -0.008099104213595826\n",
      "Day -25 C5_Close public transport -0.0007126992903274769\n",
      "Day -24 C1_School closing -0.00025575105346470095\n",
      "Day -24 C2_Workplace closing -0.004393671260856057\n",
      "Day -24 H2_Testing policy -0.001704998887678285\n",
      "Day -24 H3_Contact tracing -0.002278417513406003\n",
      "Day -24 H6_Facial Coverings -0.010698852136118358\n",
      "Day -23 H2_Testing policy -0.00614607916082315\n",
      "Day -23 H6_Facial Coverings -0.003168992121146917\n",
      "Day -22 C1_School closing -0.005865660518875628\n",
      "Day -22 C2_Workplace closing -0.011359433977516771\n",
      "Day -22 H2_Testing policy -0.005675421346423015\n",
      "Day -22 H6_Facial Coverings -0.005525123769326229\n",
      "Day -21 C1_School closing -0.0022775111516059533\n",
      "Day -21 C2_Workplace closing -0.008621739334593183\n",
      "Day -21 H2_Testing policy -0.0017997471949718895\n",
      "Day -21 H6_Facial Coverings -0.004289930540575229\n",
      "Day -20 C2_Workplace closing -0.00041521728481875864\n",
      "Day -20 C3_Cancel public events -0.004172661990923101\n",
      "Day -20 H6_Facial Coverings -0.008658118820191435\n",
      "Day -19 C1_School closing -0.0004554246651376409\n",
      "Day -19 C3_Cancel public events -0.004029910009942151\n",
      "Day -19 C7_Restrictions on internal movement -0.0018013196569262762\n",
      "Day -19 H6_Facial Coverings -0.02145845748627927\n",
      "Day -18 C3_Cancel public events -0.004661669976334211\n",
      "Day -18 C7_Restrictions on internal movement -0.0015635782529518523\n",
      "Day -18 H6_Facial Coverings -0.0028174774454504847\n",
      "Day -17 C5_Close public transport -8.275734256562838e-05\n",
      "Day -14 C5_Close public transport -0.005901464658780792\n",
      "Day -13 C2_Workplace closing 0.003814486514840604\n",
      "Day -13 C3_Cancel public events 0.003323774586335275\n",
      "Day -13 C5_Close public transport -0.0020793751365230004\n",
      "Day -13 H2_Testing policy 0.011360842396753869\n",
      "Day -12 C1_School closing 0.006519821521379398\n",
      "Day -12 C2_Workplace closing 0.015508662629216114\n",
      "Day -12 C3_Cancel public events 0.0036383849153236083\n",
      "Day -11 C1_School closing 0.004950438017954429\n",
      "Day -10 C2_Workplace closing 0.006288331686908258\n",
      "Day -10 C3_Cancel public events 0.00321131434036095\n",
      "Day -10 H6_Facial Coverings 0.009472288886426105\n",
      "Day -8 C3_Cancel public events 0.0017881642061130859\n",
      "Day -8 H1_Public information campaigns 0.003491354714329014\n",
      "Day -8 H2_Testing policy 0.0021997344082358965\n",
      "Day -7 H6_Facial Coverings 0.0018312795571652862\n",
      "Day -6 H6_Facial Coverings 0.002625165012951353\n",
      "Day -4 H6_Facial Coverings 0.021241689089798017\n",
      "Day -2 C7_Restrictions on internal movement 0.0005566507033422782\n",
      "Day -2 H6_Facial Coverings 0.02305390448247252\n",
      "Day -1 C1_School closing 0.003576091682106993\n",
      "Day -1 C2_Workplace closing 0.0005411572963822036\n",
      "Day -1 C6_Stay at home requirements 0.0036121399602656473\n",
      "Day -1 C7_Restrictions on internal movement 0.0020511615308821695\n",
      "Day -1 C8_International travel controls 0.016459783609251835\n",
      "Intercept 0.3756667465392346\n",
      "\n",
      "Impact on gamma\n",
      "PastCases -7.054783707763675e-11\n",
      "Population 7.717710118864532e-12\n",
      "Population Density (# per km2) -2.31419174515294e-06\n",
      "Urban population (% of total population) -0.000881264254348079\n",
      "Population ages 65 and above (% of total population) -0.004506890888159592\n",
      "GDP per capita (current US$) -3.512628434506092e-08\n",
      "Obesity Rate (%) -0.0011290358550352902\n",
      "Share of Deaths from Smoking (%) 0.0014955393756090507\n",
      "Pneumonia Death Rate (per 100K) -0.0002922463177422261\n",
      "Share of Deaths from Air Pollution (%) -0.004218981963641775\n",
      "CO2 emissions (metric tons per capita) 0.0018971587395246786\n",
      "Air transport (# carrier departures worldwide) -1.6713876086845968e-09\n",
      "Day -30 TemperatureC 0.0025940176895712986\n",
      "Day -12 TemperatureC -0.004770497842510444\n",
      "Day 0 TemperatureC -0.0016251177220124808\n",
      "Day -30 C2_Workplace closing -0.00019877289735692314\n",
      "Day -30 C3_Cancel public events -0.001346510271972425\n",
      "Day -30 C6_Stay at home requirements -0.005282812984184996\n",
      "Day -30 C7_Restrictions on internal movement -0.0003215298675555764\n",
      "Day -30 C8_International travel controls -0.002891221612903991\n",
      "Day -30 H1_Public information campaigns -0.007702852867583416\n",
      "Day -28 H6_Facial Coverings -0.0010648438024294092\n",
      "Day -27 C2_Workplace closing -0.0022282147974774865\n",
      "Day -26 C2_Workplace closing -0.0077105970804517655\n",
      "Day -26 C5_Close public transport -0.0003988721924654708\n",
      "Day -25 C1_School closing -0.0011067383650581717\n",
      "Day -25 C2_Workplace closing -0.009321653166477671\n",
      "Day -24 C1_School closing -0.002074079972114167\n",
      "Day -24 H2_Testing policy -0.018227840279633374\n",
      "Day -24 H6_Facial Coverings -0.005096193190494705\n",
      "Day -23 H2_Testing policy -0.0003911842434714969\n",
      "Day -23 H6_Facial Coverings -0.0052620114290510755\n",
      "Day -22 C1_School closing -0.004348132344923937\n",
      "Day -22 C2_Workplace closing -0.011996256843787086\n",
      "Day -22 H6_Facial Coverings -0.003956641286537626\n",
      "Day -21 C1_School closing -0.0022349892532383476\n",
      "Day -21 H6_Facial Coverings -0.001797986046400064\n",
      "Day -20 C3_Cancel public events -0.0063175791279262055\n",
      "Day -20 C4_Restrictions on gatherings -0.0038409087892334773\n",
      "Day -20 H6_Facial Coverings -0.012186341761101841\n",
      "Day -19 C3_Cancel public events -0.00270717737133751\n",
      "Day -19 H6_Facial Coverings -0.010166528618055174\n",
      "Day -18 C3_Cancel public events -0.001930775179545086\n",
      "Day -14 C5_Close public transport -0.0028799594649802506\n",
      "Day -13 C2_Workplace closing 0.013181979675256993\n",
      "Day -13 C3_Cancel public events 0.004772503983878126\n",
      "Day -13 H2_Testing policy 0.013460382157145057\n",
      "Day -12 C1_School closing 0.010003748325315046\n",
      "Day -12 C2_Workplace closing 0.004923396848183578\n",
      "Day -12 C3_Cancel public events 0.005875028290817609\n",
      "Day -12 H6_Facial Coverings 0.00957819536647627\n",
      "Day -11 C1_School closing 0.0043593065920716914\n",
      "Day -10 C3_Cancel public events 0.005751455798533321\n",
      "Day -10 H6_Facial Coverings 0.01510672359482312\n",
      "Day -9 H6_Facial Coverings 0.0029295350240677014\n",
      "Day -8 H1_Public information campaigns 0.0009376348267542803\n",
      "Day -7 H6_Facial Coverings 0.001648386342755922\n",
      "Day -4 H2_Testing policy 0.006716561511469146\n",
      "Day -3 C3_Cancel public events -0.005039313584745618\n",
      "Day -1 C1_School closing -0.002630306046554772\n",
      "Day -1 C3_Cancel public events -0.0039164192827565725\n",
      "Day -1 C5_Close public transport -0.0039118871862214065\n",
      "Day -1 H3_Contact tracing -0.0044594492436950935\n",
      "Intercept 0.46054107166393654\n"
     ]
    },
    {
     "name": "stderr",
     "output_type": "stream",
     "text": [
      "\n"
     ]
    }
   ],
   "source": [
    "# Inspect the learned feature coefficients for the model\n",
    "# to see what features it's paying attention to.\n",
    "\n",
    "# Give names to the features\n",
    "x_col_names = []\n",
    "#for d in range(-lookback_days, 0):\n",
    "#    x_col_names.append('Day ' + str(d) + ' ' + cases_col[0])\n",
    "for col_name in adj_cols_fixed:\n",
    "        x_col_names.append(col_name)\n",
    "        \n",
    "for d in range(-lookback_days, 1):\n",
    "    for col_name in adj_cols_time:\n",
    "        x_col_names.append('Day ' + str(d) + ' ' + col_name)\n",
    "        \n",
    "for d in range(-lookback_days, 1):\n",
    "    for col_name in npi_cols:\n",
    "        x_col_names.append('Day ' + str(d) + ' ' + col_name)\n",
    "\n",
    "# View non-zero coefficients\n",
    "print('Impact on beta')\n",
    "for (col, coeff) in zip(x_col_names, list(model.coef_[0])):\n",
    "    if coeff != 0.:\n",
    "        print(col, coeff)\n",
    "print('Intercept', model.intercept_[0])\n",
    "\n",
    "print('\\nImpact on gamma')\n",
    "for (col, coeff) in zip(x_col_names, list(model.coef_[1])):\n",
    "    if coeff != 0.:\n",
    "        print(col, coeff)\n",
    "print('Intercept', model.intercept_[1])"
   ]
  },
  {
   "cell_type": "markdown",
   "metadata": {},
   "source": [
    "### Convert to new cases"
   ]
  },
  {
   "cell_type": "code",
   "execution_count": 79,
   "metadata": {},
   "outputs": [],
   "source": [
    "y_pred_train=np.zeros(y_train.shape)\n",
    "y_pred_test=np.zeros(y_test.shape)\n",
    "for i,idx in enumerate(idx_notzero_train[0]):\n",
    "    y_pred_train[idx]=Sreg.row_predict(X_train[idx,:],train_preds[i])[-1] \n",
    "\n",
    "for i,idx in enumerate(idx_notzero_test[0]):\n",
    "    y_pred_test[idx]=Sreg.row_predict(X_test[idx,:],test_preds[i])[-1] "
   ]
  },
  {
   "cell_type": "code",
   "execution_count": 80,
   "metadata": {},
   "outputs": [
    {
     "name": "stdout",
     "output_type": "stream",
     "text": [
      "Train MAE: 298.8434335047982\n",
      "Test MAE: 295.7261047321465\n"
     ]
    }
   ],
   "source": [
    "# Evaluate model on new cases\n",
    "print('Train MAE:', mae(y_pred_train, y_train))\n",
    "print('Test MAE:', mae(y_pred_test, y_test))"
   ]
  },
  {
   "cell_type": "code",
   "execution_count": null,
   "metadata": {},
   "outputs": [],
   "source": []
  }
 ],
 "metadata": {
  "kernelspec": {
   "display_name": "xprize",
   "language": "python",
   "name": "xprize"
  },
  "language_info": {
   "codemirror_mode": {
    "name": "ipython",
    "version": 3
   },
   "file_extension": ".py",
   "mimetype": "text/x-python",
   "name": "python",
   "nbconvert_exporter": "python",
   "pygments_lexer": "ipython3",
   "version": "3.7.3"
  },
  "pycharm": {
   "stem_cell": {
    "cell_type": "raw",
    "metadata": {
     "collapsed": false
    },
    "source": [
     "# Copyright 2020 (c) Cognizant Digital Business, Evolutionary AI. All rights reserved. Issued under the Apache 2.0 License."
    ]
   }
  }
 },
 "nbformat": 4,
 "nbformat_minor": 4
}
